{
 "cells": [
  {
   "cell_type": "markdown",
   "id": "2dc55853-2232-4ff2-812f-05e11afdd9db",
   "metadata": {},
   "source": [
    "(modules/01-OLCC-Primer/01-1-OLCC-Primer)=\n",
    "# 1.1 OLCC Primer"
   ]
  },
  {
   "cell_type": "markdown",
   "id": "e2875360-c1bc-4eb1-9a52-a2f4153ef85f",
   "metadata": {},
   "source": [
    "Welcome to the DataChemistry OLCC (OnLine Chemistry Course).  \n",
    "\n",
    "**This notebook is under development**\n",
    "\n",
    "# OLCC History\n",
    "\n",
    "OLCC's (OnLine Chemistry Courses) are organized by the ACS (American Chemical Society) Division of Chemical Education's Committee on Computers in Chemical Education (CCCE) with the first OLCC being offered in the Spring of 1996. This makes them one of the oldest Online Courses and the first one is available through the Internet Archive's [WayBack Machine](https://web.archive.org/web/19990221115001/http:/dirac.py.iup.edu/college/chemistry/chem-course/webpage.html). \n",
    "\n",
    "The acronym OLCC is actually misnomer dating from the dawn of the internet and today we would call them intercollegiate collaboratively taught hybrid courses, where students of multiple classes meet with a resident faculty member while also communicating online with experts from both academic and nonacademic institutions. Further information on OLCCs can be found in this [2020 Journal of Chemical Education Article](https://pubs.acs.org/doi/10.1021/acs.jchemed.0c01035).\n",
    "\n",
    "This data chemistry OLCC will involve multi-campus discussions on the CCCE DataChemistry2025OLCC GitHub repository where you can also download the Python based Jupyter notebooks. You will be provided resources on how to run the notebooks on your own computer or access an online Jupyter Lab through the nanoHub.\n",
    "\n",
    "The purpose of this notebook is to provide you with instructions on how to use the tools and technologies we will use in this course."
   ]
  },
  {
   "attachments": {},
   "cell_type": "markdown",
   "id": "8b135dd9-68a0-4bc6-8c5c-3fff3551ddb7",
   "metadata": {},
   "source": [
    "# 1. GitHub\n",
    "This course is using a series of Jupyter Notebooks posted in the Course GitHub [https://github.com/DivCHED-CCCE/DataChemistry2025OLCC](https://github.com/DivCHED-CCCE/DataChemistry2025OLCC).  You can download these notebooks to your own computer and run them locally, or access them through the course [nanoHub tool](https://nanohub.org/tools/datachemolcc). If you do not have an account at github.com, please make one now.  \n",
    "\n",
    "## 1. Create an Account on GitHub\n",
    "If you do not have an account at [github.com](https://github.com/), please make one now. Although you can use your university email, it may be prudent to use a different email address so that you have access to it after you graduate. This will allow you to generate your own repository and access other people's repositories even after you graduate.\n",
    "\n",
    "## 2. Watch Class Discussions\n",
    "Once you have created an account navigate to the course GitHub [https://github.com/DivCHED-CCCE/DataChemistry2025OLCC](https://github.com/DivCHED-CCCE/DataChemistry2025OLCC). You now want to watch the discussions, which will allow you to participate in discussions with faculty and students from multiple campuses. This is a three step process as outline in the following image\n",
    "![image.png](images/8c6599dc-3936-4475-a372-7c325e51c3e3.png)  \n",
    "Once you are watching discussions you will get an email when someone makes a comment, and a reply to your email will result in a comment to the discussion forum.\n",
    "\n",
    "## 3. Participate in Discussions\n",
    "The discussion forum of the course GitHub has the same Directory structure as the repository and to discuss a notebook you navigate through the Discussion Topics to the desired notebook discussion. You first click Discussions on the top toolbar and then choose the forum topic the notebook you wish to discuss is in.\n",
    "![image.png](images/5020f8aa-2e22-4adc-ba39-11a420574a39.png)\n",
    "\n",
    "\n",
    "where we will post course content and discuss the modules. \n",
    "will use GitHub to provide a repository for our code and to discuss the modules across labs"
   ]
  },
  {
   "attachments": {},
   "cell_type": "markdown",
   "id": "5cd64b76-d785-4f07-b2ed-ebe5dc2b1b6d",
   "metadata": {},
   "source": [
    "# 2. nanoHUB\n",
    "There are essentially two ways you can run the code on your computer, install software on your computer and download the code, or use a cloud service. When you install software on your computer you have direct control over the Python packages your environment uses and you are most welcome to download the code from the gitHub onto your computer and run the assignments on your local host. The nanoHUB is a cloud service that runs a Jupyter Hub where we have not only uploaded all the notebooks you will use in the class, but have also installed all the packages you need to run the notebooks.\n",
    "## 2.1 Create account at nanoHUB\n",
    "Go to [https://nanohub.org/](https://nanohub.org/) and sign up if you do not already have an account. If you have a Google account I suggest you use the **Sign in with Google** option, or you can create an account from scratch. There is no problem using you school email, as unlike GitHub, nanoHUB is not a place for students to upload and share code, but a place to run the code. There are only three fields that you are required to fill out and this is a free service being provided through the nanoHUB project that is run out of Purdue University.\n",
    "\n",
    "## 2.2 Navigating nanoHUB\n",
    "Once you have an account left click **Logged in** (your profile will show) and this will activate your dashboard.  You will see several **Modules** as in the image below that allow you to access your sessions and various tools.  \n",
    "![image.png](images/f5fcb140-0d51-4892-9955-6b9440b3d6f4.png)\n",
    "\n",
    "### 2.2.1 MY TOOLS\n",
    "If you look at **MY TOOLS** and click on **All Tools** you can search for tools within the nanoHUB. If you click the heart next to any tool it gets placed in your **Favorites** section and is easy to access.\n",
    "![image.png](images/9c50ae78-04fe-4962-8449-d20bc9cad7c8.png)\n",
    "You are advised to place two tools in your Favorites.\n",
    "   1. Jupyter Lab (202105)\n",
    "   2. Data Chemistry OLCC\n",
    "Once you click a tool it will show up in **My Sessions**.\n",
    "\n",
    "### 2.2.2 My SESSIONS\n",
    "You can run up to three sessions at a time and you can see which ones you are running in the **MY SESSIONS** module. In the following image a Jupyter Lab and the Data Chem OLCC are both running.  If you need to run the Data Chemistry OLCC and it is already in your **MY SESSIONS you should not relaunch the APP but Open the running session**.  If you need to close it simply choose the terminate option.\n",
    "![image.png](images/ba033c57-b6fa-447d-b6c5-358efe8bc005.png)\n",
    "\n",
    "#### Data Chemistry OLCC\n",
    "When you launch **Data Chemistry OLCC** it opens the course landing page within the Jupyter Lab and the File Browser is open in the left pane. You have actually opened the latest version of the course website and so the **File Browser** of the Jupyter Labs left frame starts in that location.  If you want to run Jupyter Notebooks in other branches of your root directory you can launch the Jupyter Lab (202105) tool that opens in your root directory (next option).\n",
    "\n",
    "#### Jupyter Lab (202105)\n",
    "When you run this module you open a Jupyter Lab in your nanoHUB user-home directory and can see your entire user file directory structure from the Jupyter Lab **File Browser**. This is very powerful as you are in your own user directory within the nanoHUB where you can read, write and execute files. In the following screenshot we have navigated to the datachem2025olcc directory and see there are three folders r11, r13 and r15. These are three different revisions of the course tool that existed when the screenshot was made.  When you launch the tool from **MY TOOLS** it will launch the most recent version of the tool, and if an update occured, it will create a new revision and launch that. Sinc but you still have access to the old material by going to the revision number you performed your work in.\n",
    "\n",
    "\n",
    "There are many online tutorials and YouTubes on how to use Jupyter Lab and you need to play around and have some fun.  If you click File/New/Terminal you will open a command line terminal within your jupyter hub where you can do things like clone gitHub repositories and the like.\n",
    "\n",
    "![image.png](images/0125bad0-169f-47b9-a362-cc7c4d6a1a26.png)"
   ]
  },
  {
   "cell_type": "markdown",
   "id": "e47531ec-9071-4cce-b5ad-aebe31c4e4bd",
   "metadata": {},
   "source": [
    "# 3. Python Code\n",
    "Python code can live in different file types depending on the purpose of the code and we will be using two different file types, **python files** (`*.py`) and **interactive Python notebook files** (`*.ipynb`). \n",
    "\n",
    "* **`.py` files**\n",
    "\n",
    "  * Plain text files that store Python code.\n",
    "  * Best for scripts, packages, and projects meant to be reused or run outside of Jupyter.\n",
    "  * Executed linearly from top to bottom.\n",
    "\n",
    "* **`.ipynb` files** (Jupyter Notebooks)\n",
    "\n",
    "  * JSON documents that mix **code cells** and **Markdown cells**.\n",
    "  * Excellent for exploration, teaching, data analysis, and reproducible science.\n",
    "  * Store outputs (plots, tables, text) alongside the code.\n",
    "\n",
    "To execute the code you need to have python installed on a computer and you sort of have two choices.\n",
    "    1. Run your code in a cloud service\n",
    "    2. Install the software on your own computer.\n",
    "\n",
    "When you install the software on your own computer you will need to control the environment it is in and provide access to the necessary packages. You also have two choices for running the code, in a full fledged IDE (Interactive Development Environment) or within a Jupyter Notebook or Lab, which many scientists treat as an IDE.\n"
   ]
  },
  {
   "cell_type": "markdown",
   "id": "84d707f2-6778-4588-a820-b09a99885df0",
   "metadata": {},
   "source": [
    "# 4. Jupyter Platform\n",
    "\n",
    "## 4.1 Jupyter Hub\n",
    "The nanoHUB is providing a Jupyter Hub that has all the packages preinstalled to run the code.  When you launch your class tool or open it in the \"My Sessions\" you are opening a Jupyter Lab within that directory of your nanoHUB user space. This is the simplest and easiest way to run the course assignments.\n",
    "\n",
    "## 4.2 Jupyter Lab\n",
    "A Jupyter Lab is an interface that allows you to concurrently run different notebooks, and those notebooks can actually be in different environments with different packages. If you are running your notebooks on your computer you need to start the lab in the Linux terminal with the following command. Note in this class we are using conda to manage the environments, and you need to activate an environment containing the jupyter lab package, which we will call \"jpenv\".  If you are using the nanoHUB this is preloaded when you start the tool.\n",
    "```bash\n",
    "conda activate jpenv\n",
    "jupyter lab\n",
    "```\n",
    "\n",
    "## 4.3 Jupyter Notebook\n",
    "The Jupyter notebook has code and Markdown cells, and the code cells allow you to execute the script within the code cell.  There are empty square brackets (**`[ ]`**)to the left of each code cell and if they have a star it means the cell is executing and if they have a number it tells you the order the cell was executed in.  So you can run different code cells in any sequence you want. Please reference this Jupyter Book Chapter on [\"Running and Creating Jupyter Notebooks\"](https://rebelford.github.io/py4scibook/content/module1-setup/01-2-jynbgettingstarted.html#module1-setup-01-2-jynbgettingstarted)\n",
    "\n",
    "## 4.4 Jupyter Book\n",
    "A jupyter book is compiled by combining multiple notebooks into a html based webpage.  This [Jupyter Book](https://rebelford.github.io/py4scibook/content/index.html) and you "
   ]
  },
  {
   "cell_type": "markdown",
   "id": "fc65ed0b-f6e8-4d98-9f00-bfe7f0bba0a7",
   "metadata": {},
   "source": []
  },
  {
   "cell_type": "markdown",
   "id": "a8542612-b4e6-416c-84a9-3fd557c7e85b",
   "metadata": {},
   "source": []
  },
  {
   "cell_type": "markdown",
   "id": "8ab53731-4767-40c0-a42b-d4d869ed2fcc",
   "metadata": {},
   "source": []
  },
  {
   "cell_type": "markdown",
   "id": "79c2d031-a949-41a6-a3ca-3ce8e6b8bf46",
   "metadata": {},
   "source": []
  },
  {
   "cell_type": "markdown",
   "id": "2c791e79-126a-4b8a-a96e-2f7716c7b5b3",
   "metadata": {},
   "source": []
  }
 ],
 "metadata": {
  "kernelspec": {
   "display_name": "dataChem(py3.10)",
   "language": "python",
   "name": "datachem"
  },
  "language_info": {
   "codemirror_mode": {
    "name": "ipython",
    "version": 3
   },
   "file_extension": ".py",
   "mimetype": "text/x-python",
   "name": "python",
   "nbconvert_exporter": "python",
   "pygments_lexer": "ipython3",
   "version": "3.10.12"
  }
 },
 "nbformat": 4,
 "nbformat_minor": 5
}
