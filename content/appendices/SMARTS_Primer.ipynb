{
 "cells": [
  {
   "cell_type": "markdown",
   "id": "c505b922-4bce-4519-bb42-b9bfa9134b8a",
   "metadata": {},
   "source": [
    "(Appendices/)=\n",
    "\n",
    "# SMARTS Primer\n"
   ]
  },
  {
   "cell_type": "markdown",
   "id": "ffb3b991-b7f1-4c1e-a1c2-d3de1eb068d7",
   "metadata": {},
   "source": [
    "## 1. What SMARTS is\n",
    "\n",
    "**SMARTS** = *SMiles ARbitrary Target Specification*.\n",
    "It extends the SMILES syntax so you can **search for patterns** (substructures) inside molecules instead of describing a single, fully defined molecule.\n",
    "\n",
    "A SMILES string → describes *one* molecule.\n",
    "A SMARTS pattern → describes *all* molecules that match that pattern"
   ]
  },
  {
   "cell_type": "markdown",
   "id": "5e2212d8-8866-45cc-a964-2cff53918a59",
   "metadata": {},
   "source": [
    "# 2. The “anatomy” of a SMARTS string\n",
    "\n",
    "A SMARTS pattern is made of:\n",
    "\n",
    "| Component             | Meaning                                | Example                        |\n",
    "| --------------------- | -------------------------------------- | ------------------------------ |\n",
    "| **Atom expressions**  | Describe what kind of atom can match.  | `[C]`, `[O]`, `[N+]`, `[!C]`   |\n",
    "| **Bond expressions**  | Describe how atoms are connected.      | `-`, `=`, `#`, `:`, `~`        |\n",
    "| **Logical operators** | Combine conditions.                    | `&` (AND), `,` (OR), `!` (NOT) |\n",
    "| **Parentheses `()`**  | Group subpatterns.                     | `[$(C(=O)O)]`                  |\n",
    "| **Recursion `$()`**   | A pattern within a pattern (powerful). | `[$([CX4][OX2H])]`             |\n"
   ]
  },
  {
   "cell_type": "markdown",
   "id": "04d242cb-8925-49a0-a941-0f84df0740b0",
   "metadata": {},
   "source": [
    "## a. Atom Expressions\n",
    "Atom Expressions\n",
    "\n",
    "Inside square brackets `[...]`, you can specify *which* atoms match and *how they’re bonded*.\n",
    "\n",
    "| Token         | Meaning                                     | Example            | Matches            | Excludes            |\n",
    "| :------------ | :------------------------------------------ | :----------------- | :----------------- | :------------------ |\n",
    "| `C`, `N`, `O` | Element symbol (default valence inferred)   | `[C]`              | any carbon         | —                   |\n",
    "| `A`           | any **aliphatic** atom (non-aromatic)       | `[A]`              | sp³ C, N, O…       | aromatic atoms      |\n",
    "| `a`           | any **aromatic** atom                       | `[a]`              | benzene ring atoms | aliphatic atoms     |\n",
    "| `*`           | any atom                                    | `[*]`              | everything         | —                   |\n",
    "| `#n`          | atomic number =n                            | `[#6]`             | carbon             | —                   |\n",
    "| `Xn`          | **connectivity** (number of attached atoms) | `[CX4]`            | sp³ carbon         | carbonyl C (X3)     |\n",
    "| `Hn`          | explicit **hydrogen count**                 | `[OH1]`            | hydroxyl oxygen    | ether oxygen (H0)   |\n",
    "| `v n`         | **valence electrons** (rarely used)         | `[Nv3]`            | neutral amine N    | quaternary N⁺       |\n",
    "| `R`           | atom is in a ring (boolean)                 | `[CR]`             | cyclohexane C      | chain C             |\n",
    "| `r n`         | in a ring of size n                         | `[Cr6]`            | benzene C          | cyclopropane C (r3) |\n",
    "| `+n`, `-n`    | charge                                      | `[N+]`             | ammonium           | neutral N           |\n",
    "| `!`           | logical NOT                                 | `[!O]`             | everything but O   | O                   |\n",
    "| `;`           | logical AND (within atom expr.)             | `[C;H3]`           | methyl C           | secondary C         |\n",
    "| `,`           | logical OR                                  | `[O,N]`            | O or N             | others              |\n",
    "| `$()`         | **recursive** subpattern                    | `[$([CX4][OX2H])]` | alcohol            | carbonyl            |\n"
   ]
  },
  {
   "cell_type": "markdown",
   "id": "6abf5a0b-152f-4d41-bd1b-97840152e21c",
   "metadata": {},
   "source": [
    "## b. Bond Expressions\n",
    "\n",
    "Outside atom brackets, characters define **bond types**:\n",
    "\n",
    "| Symbol | Meaning             | Example       | Matches            |\n",
    "| :----- | :------------------ | :------------ | :----------------- |\n",
    "| `-`    | single              | `CC` or `C-C` | sigma bonds        |\n",
    "| `=`    | double              | `C=O`         | carbonyl           |\n",
    "| `#`    | triple              | `C#N`         | nitrile            |\n",
    "| `:`    | aromatic bond       | `c1ccccc1`    | benzene            |\n",
    "| `~`    | any bond (wildcard) | `C~O`         | single/double/etc. |\n",
    "| `@`    | ring bond (stereo)  | `[C@H]`       | stereochem.        |\n",
    "| `!`    | NOT a bond type     | `!@`          | non-ring bond      |"
   ]
  },
  {
   "cell_type": "markdown",
   "id": "0380877d-be79-4676-bebe-d68f19b253f5",
   "metadata": {},
   "source": [
    "## c. Logic and Grouping\n",
    "\n",
    "| Syntax     | Meaning                        | Example                        | Comment |\n",
    "| :--------- | :----------------------------- | :----------------------------- | :------ |\n",
    "| `[C,N]`    | carbon OR nitrogen             | `[O,N,S]` = heteroatoms        |         |\n",
    "| `[C;H3]`   | carbon AND 3 hydrogens         | methyl carbon                  |         |\n",
    "| `[!O;!N]`  | not O AND not N                | hydrocarbon atoms              |         |\n",
    "| `$( ... )` | recursive/embedded subpattern  | `[$(C(=O)O)]` = carboxyl group |         |\n",
    "| `()`       | parentheses for order grouping | `[C;$(=O)]`                    |         |\n",
    "\n",
    "**Meaning of “X” and related symbols**\n",
    "\n",
    "| Symbol    | Meaning                                             | Example                        |\n",
    "| --------- | --------------------------------------------------- | ------------------------------ |\n",
    "| **X**     | *connectivity number* (count of σ-bonded neighbors) | `[CX4]` = sp³ carbon           |\n",
    "| **v**     | *valence* (number of bonded electrons)              | `[Nv3]` = trivalent nitrogen   |\n",
    "| **H**     | number of attached hydrogens                        | `[OH1]` = hydroxyl O           |\n",
    "| **R**     | ring membership (1 = in a ring)                     | `[CR1]` = ring carbon          |\n",
    "| **r**     | ring size                                           | `[Cr6]` = in a 6-membered ring |\n",
    "| **+ / −** | charge                                              | `[N+]`, `[O-]`                 |\n",
    "| **!**     | NOT operator                                        | `[!O]` = any atom except O     |\n",
    "| **& , ;** | AND/OR connectors                                   | `[C;H3]`, `[C,N]`              |\n"
   ]
  },
  {
   "cell_type": "markdown",
   "id": "f651bd1b-138b-490f-977d-c9fb0893ea76",
   "metadata": {},
   "source": [
    "# 3. SMARTS Patterns\n",
    "## Common Patterns\n",
    "| SMARTS Pattern       | Meaning                                | Example Match                    |\n",
    "|----------------------|-----------------------------------------|----------------------------------|\n",
    "| `*`                  | Any atom                               | Matches all atoms                |\n",
    "| `#6`                 | Carbon (atomic number 6)               | Matches any carbon atom          |\n",
    "| `C`                  | Aliphatic carbon                       | Matches non-aromatic C           |\n",
    "| `c`                  | Aromatic carbon                        | Matches benzene ring carbon      |\n",
    "| `N`                  | Aliphatic nitrogen                     | Matches amines, etc.             |\n",
    "| `n`                  | Aromatic nitrogen                     | Matches pyridine-type N          |\n",
    "| `[O;H1]`             | Hydroxyl oxygen                        | Matches -OH group                |\n",
    "| `[CX3]=O`            | Carbon (sp2) double bonded to O        | Carbonyl group                   |\n",
    "| `[OX1H]`             | Single-bonded OH group                 | Alcohol or acid OH               |\n",
    "| `[$([NH2]),$([NH])`  | Primary or secondary amine             | Amine groups                     |\n",
    "| `[!#6]`              | Any atom except carbon                 | e.g., O, N, S, etc.              |\n",
    "| `[C;H3]`             | Methyl carbon                          | Terminal CH₃ group               |\n",
    "| `[R]`                | Any atom in a ring                     | Benzene, cyclohexane atoms       |\n",
    "| `[R0]`               | Atom not in a ring                     | Linear chain atoms               |\n",
    "| `[cH]`               | Aromatic hydrogen                      | e.g., hydrogen on benzene ring   |\n",
    "| `C(=O)O`             | Carboxylic acid group (non-generic)    | Acetic acid                      |\n",
    "| `[C@H](N)(C)`        | Chiral carbon (with wedge notation)    | Specific stereochemistry         |\n",
    "\n"
   ]
  },
  {
   "cell_type": "markdown",
   "id": "1766b9c4-b780-47c8-803a-17621546b667",
   "metadata": {},
   "source": [
    "\n",
    "## Functional Group Patterns\n",
    "\n",
    "| Functional Group              | SMARTS Pattern         | Explanation                |\n",
    "| :---------------------------- | :--------------------- | :------------------------- |\n",
    "| **Alcohol**                   | `[CX4][OX2H]`          | sp³ C bonded to hydroxyl   |\n",
    "| **Ether**                     | `[OD2]([CX4])[CX4]`    | O with two sp³ C neighbors |\n",
    "| **Phenol**                    | `[c][OX2H]`            | aromatic C–OH              |\n",
    "| **Aldehyde**                  | `[CX3H1](=O)[#6]`      | terminal carbonyl H        |\n",
    "| **Ketone**                    | `[CX3](=O)[#6]`        | internal carbonyl          |\n",
    "| **Carboxylic acid**           | `[CX3](=O)[OX2H1]`     | –C(=O)OH                   |\n",
    "| **Ester**                     | `[CX3](=O)[OX2][CX4]`  | –C(=O)O–                   |\n",
    "| **Amide**                     | `[NX3][CX3](=O)`       | N attached to carbonyl     |\n",
    "| **Amine (primary/secondary)** | `[NX3;H2,H1;!$(NC=O)]` | excludes amides            |\n",
    "| **Aromatic ring**             | `c1ccccc1`             | benzene 6-ring             |\n",
    "| **Halogen**                   | `[F,Cl,Br,I]`          | halogen atoms              |\n",
    "| **Thiol**                     | `[SX2H]`               | –SH                        |\n",
    "| **Disulfide**                 | `[SX2]S`               | –S–S–                      |\n",
    "| **Carboxylate anion**         | `[CX3](=O)[O-]`        | deprotonated acid          |"
   ]
  },
  {
   "cell_type": "markdown",
   "id": "100e481e-f5b2-4d52-a071-df6364987204",
   "metadata": {},
   "source": [
    "# 4. Using SMARTS in RDKit\n",
    "\n",
    "SMARTS is a notation and language specification—a symbolic way to describe structural patterns in molecules. However, what actually happens when you run a SMARTS query depends on how the SMARTS parser and matcher are implemented in the cheminformatics toolkit you are using. Different toolkits such as RDKit, Open Babel, or Daylight, may interpret certain SMARTS features differently based on how they handle aromaticity, implicit hydrogens, or valence rules.\n",
    "\n",
    "In this section, we focus on how RDKit interprets and applies SMARTS patterns. Understanding these nuances is essential because the same SMARTS expression can yield different results across toolkits. By exploring RDKit’s parsing behavior, matching functions, and query options, you’ll gain insight into how SMARTS are operationalized within a specific chemical perception engine—and why awareness of these implementation details matters in cheminformatics workflows.\n",
    "\n",
    "When RDKit reads a SMARTS string, it doesn’t treat it as plain text — it compiles it into a special internal object called a query molecule. This object defines a set of atom and bond constraints that RDKit can test against other molecules. The process works conceptually as follows:\n",
    "\n",
    "  1. Parsing – The SMARTS string (e.g., [O;D2]) is read by `Chem.MolFromSmarts()`, which checks for valid syntax and builds an RDKit molecule object. This is the same type of object you get when you read a SMILES string, but it has special properties for querying. It has the same Python type as a normal molecule (`rdkit.Chem.rdchem.Mol`), but internally its atoms are QueryAtoms and its bonds are QueryBonds—specialized objects that store logical rules instead of fixed chemical properties.\n",
    "  2. Compilation – RDKit translates these symbolic queries into a query graph, a data structure optimized for substructure searching. \n",
    "  3. Matching – When you call `mol.HasSubstructMatch(patt)` or `mol.GetSubstructMatches(patt)`, RDKit walks this query graph, comparing each atom and bond in the target molecule against the constraints in the query molecule.\n",
    "  4. Result Handling – Matches are returned as tuples of atom indices (for example, which atoms in ethanol match the [OX2H] pattern).\n",
    "\n",
    "Because RDKit relies on its own definitions of aromaticity, valence, and hydrogen handling, the results of a SMARTS query reflect RDKit’s chemical perception model rather than an absolute SMARTS truth."
   ]
  },
  {
   "cell_type": "markdown",
   "id": "cba9fc3b-8aad-470a-bff3-c1b55c7fa1f6",
   "metadata": {},
   "source": [
    "## 4.1 RDKit Functions and Methods for SMARTS\n",
    "\n",
    "Working with SMARTS in RDKit involves a mix of functions (usually from `rdkit.Chem`) and methods (attached to molecule objects). The table below summarizes the most common ones used interactively with SMARTS patterns in Jupyter Lab.\n",
    "\n",
    "> **Note:** RDKit functions that start with `Chem.` generally *create or convert* molecule objects, while methods called on a molecule (e.g., `mol.HasSubstructMatch(patt)`) act upon those objects.\n",
    "\n",
    "---\n",
    "\n",
    "### Table: Common RDKit Functions and Methods for SMARTS Workflows\n",
    "\n",
    "| Category                             | Function / Method                      | Description                                                                                            | Typical Use Case                                               |\n",
    "| :----------------------------------- | :------------------------------------- | :----------------------------------------------------------------------------------------------------- | :------------------------------------------------------------- |\n",
    "| **Create / Parse**                   | `Chem.MolFromSmarts(s)`                | Parses a SMARTS string into a **query molecule** (`Mol` with `QueryAtoms`). Returns `None` if invalid. | Create a SMARTS pattern: `patt = Chem.MolFromSmarts(\"[O;D2]\")` |\n",
    "|                                      | `Chem.MolToSmarts(mol)`                | Converts a molecule back into its SMARTS string representation.                                        | Inspect or export a query molecule.                            |\n",
    "|                                      | `Chem.MolFromSmiles(smi)`              | Parses a SMILES into a *regular* molecule (for targets).                                               | Define target molecules for substructure searching.            |\n",
    "| **Search / Match**                   | `mol.HasSubstructMatch(patt)`          | Returns `True` if the molecule matches the SMARTS pattern.                                             | Quick Boolean tests.                                           |\n",
    "|                                      | `mol.GetSubstructMatches(patt)`        | Returns tuples of atom indices that match the SMARTS pattern.                                          | Locate and highlight matched atoms.                            |\n",
    "|                                      | `mol.GetSubstructMatch(patt)`          | Returns the *first* match only (single tuple).                                                         | Simpler alternative for small molecules.                       |\n",
    "| **Query Introspection**              | `atom.DescribeQuery()`                 | Returns a text description of the logical tests for a query atom.                                      | Explore how RDKit interprets your SMARTS internally.           |\n",
    "|                                      | `bond.DescribeQuery()`                 | Describes bond-level query logic.                                                                      | Examine SMARTS bond conditions.                                |\n",
    "|                                      | `Chem.MolToMolBlock(patt)`             | Prints the query molecule in MOL-block format, including SMARTS info.                                  | Debugging or visualization.                                    |\n",
    "| **Visualization (Jupyter-friendly)** | `from rdkit.Chem import Draw`          | RDKit drawing submodule.                                                                               | Must import to render structures in notebooks.                 |\n",
    "|                                      | `Draw.MolToImage(mol, size=(200,200))` | Creates a PIL image of a molecule or SMARTS match.                                                     | Display molecules inline in Jupyter Lab.                       |\n",
    "|                                      | `Draw.MolsToGridImage([...])`          | Displays multiple molecules side-by-side (optionally with highlights or legends).                      | Compare pattern matches visually.                              |\n",
    "| **Batch Searching**                  | `Chem.SubstructLibrary()`              | Builds an indexed library for fast bulk substructure queries.                                          | Screening many molecules against one SMARTS.                   |\n",
    "| **Reactions / Advanced**             | `Chem.ReactionFromSmarts(s)`           | Parses reaction SMARTS into an RDKit reaction object.                                                  | For SMARTS-based transformations.                              |\n",
    "|                                      | `rxn.RunReactants((mol1, ...))`        | Applies reaction SMARTS to one or more molecules.                                                      | Explore reaction mapping or retrosynthesis.                    |\n",
    "\n",
    "---\n",
    "\n",
    "### Jupyter-Specific Notes\n",
    "\n",
    "* In **Jupyter Lab**, RDKit’s `Draw` module automatically integrates with IPython’s display system. Simply placing a molecule as the last line in a code cell will render it as an image:\n",
    "\n",
    "  ```python\n",
    "  from rdkit import Chem\n",
    "  from rdkit.Chem import Draw\n",
    "\n",
    "  mol = Chem.MolFromSmiles(\"CCO\")\n",
    "  mol  # ← rendered automatically in Jupyter\n",
    "  ```\n",
    "* Outside Jupyter (e.g., VS Code terminal or a script), you must explicitly call `Draw.MolToImage()` or `Draw.ShowMol()` to view molecules.\n",
    "* To highlight SMARTS matches in teaching examples, you can use:\n",
    "\n",
    "  ```python\n",
    "  patt = Chem.MolFromSmarts(\"[OX2H]\")\n",
    "  matches = mol.GetSubstructMatches(patt)\n",
    "  Draw.MolToImage(mol, highlightAtoms=[a for m in matches for a in m])\n",
    "  ```\n"
   ]
  },
  {
   "cell_type": "code",
   "execution_count": 1,
   "id": "94bb9ef3-950f-41b0-87df-595363a0e236",
   "metadata": {},
   "outputs": [
    {
     "name": "stdout",
     "output_type": "stream",
     "text": [
      "Match found!\n",
      "Matched atom indices: ((2,), (4,))\n",
      "mol type: <class 'rdkit.Chem.rdchem.Mol'>\n",
      "patt type: <class 'rdkit.Chem.rdchem.Mol'>\n",
      "smarts_string type: <class 'str'>\n"
     ]
    },
    {
     "data": {
      "image/png": "[encoded data removed]",
      "text/plain": [
       "<IPython.core.display.Image object>"
      ]
     },
     "execution_count": 1,
     "metadata": {},
     "output_type": "execute_result"
    }
   ],
   "source": [
    "from rdkit import Chem\n",
    "from rdkit.Chem import Draw\n",
    "from IPython.display import Image\n",
    "\n",
    "# Step 1: Create the target molecule from SMILES\n",
    "mol = Chem.MolFromSmiles(\"C(CO)CO\")  # ethanol\n",
    "\n",
    "# Step 2: Create the SMARTS query and store its string form\n",
    "patt = Chem.MolFromSmarts(\"[OX2H]\")  # alcohol oxygen pattern\n",
    "smarts_string = Chem.MolToSmarts(patt).replace(\"&\",\"\")  # convert to string for display\n",
    "\n",
    "# Step 3: Test for substructure match\n",
    "if mol.HasSubstructMatch(patt):\n",
    "    print(\"Match found!\")\n",
    "\n",
    "# Step 4: Get substructure matches and print them\n",
    "matches = mol.GetSubstructMatches(patt)\n",
    "print(\"Matched atom indices:\", matches)\n",
    "\n",
    "# Step 5: Inspect object types\n",
    "print(\"mol type:\", type(mol))\n",
    "print(\"patt type:\", type(patt))\n",
    "print(\"smarts_string type:\", type(smarts_string))\n",
    "\n",
    "# Step 6: Highlight matching atoms\n",
    "highlight_atoms = [a for m in matches for a in m]\n",
    "\n",
    "# Step 7: Draw molecule with atom indices, highlights, and SMARTS legend\n",
    "drawer = Draw.MolDraw2DCairo(300, 300)\n",
    "opts = drawer.drawOptions()\n",
    "opts.addAtomIndices = True  # show atom index numbers\n",
    "\n",
    "# ✅ Add the legend argument *inside* DrawMolecule()\n",
    "legend_text = f\"SMARTS: {smarts_string}\"\n",
    "drawer.DrawMolecule(mol, highlightAtoms=highlight_atoms, legend=legend_text)\n",
    "drawer.FinishDrawing()\n",
    "\n",
    "# Step 8: Display image in Jupyter\n",
    "Image(drawer.GetDrawingText())\n"
   ]
  },
  {
   "cell_type": "code",
   "execution_count": 2,
   "id": "cc46212c-eae7-4458-9094-db0c7ea9fee6",
   "metadata": {},
   "outputs": [
    {
     "name": "stdout",
     "output_type": "stream",
     "text": [
      "\n",
      "ethanol: CCO\n",
      "  alcohol  -> True\n",
      "  ketone   -> False\n",
      "  ester    -> False\n",
      "  amine    -> False\n",
      "\n",
      "acetone: CC(=O)C\n",
      "  alcohol  -> False\n",
      "  ketone   -> True\n",
      "  ester    -> False\n",
      "  amine    -> False\n",
      "\n",
      "acetic_acid: CC(=O)O\n",
      "  alcohol  -> False\n",
      "  ketone   -> True\n",
      "  ester    -> False\n",
      "  amine    -> False\n",
      "\n",
      "ethyl_acetate: CCOC(=O)C\n",
      "  alcohol  -> False\n",
      "  ketone   -> True\n",
      "  ester    -> True\n",
      "  amine    -> False\n",
      "\n",
      "aniline: c1ccccc1N\n",
      "  alcohol  -> False\n",
      "  ketone   -> False\n",
      "  ester    -> False\n",
      "  amine    -> True\n"
     ]
    }
   ],
   "source": [
    "from rdkit import Chem\n",
    "\n",
    "molecules = {\n",
    "    \"ethanol\": \"CCO\",\n",
    "    \"acetone\": \"CC(=O)C\",\n",
    "    \"acetic_acid\": \"CC(=O)O\",\n",
    "    \"ethyl_acetate\": \"CCOC(=O)C\",\n",
    "    \"aniline\": \"c1ccccc1N\"\n",
    "}\n",
    "\n",
    "patterns = {\n",
    "    \"alcohol\": \"[CX4][OX2H]\",\n",
    "    \"ketone\": \"[CX3](=O)[#6]\",\n",
    "    \"ester\": \"[CX3](=O)[OX2][CX4]\",\n",
    "    \"amine\": \"[NX3;H2,H1;!$(NC=O)]\"\n",
    "}\n",
    "\n",
    "for name, smi in molecules.items():\n",
    "    mol = Chem.MolFromSmiles(smi)\n",
    "    print(f\"\\n{name}: {smi}\")\n",
    "    for pname, smarts in patterns.items():\n",
    "        patt = Chem.MolFromSmarts(smarts)\n",
    "        print(f\"  {pname:8s} -> {mol.HasSubstructMatch(patt)}\")"
   ]
  },
  {
   "cell_type": "markdown",
   "id": "58883a67-7807-4cce-b2ae-b0ff57b1d205",
   "metadata": {},
   "source": [
    "# 5. SMARTS Explorer Activity\n",
    "Run the following code and then use the SMARTS explorer to answer the following questions."
   ]
  },
  {
   "cell_type": "code",
   "execution_count": 1,
   "id": "8ea46480-7d89-4063-b5a0-eaf5ff2bc293",
   "metadata": {},
   "outputs": [],
   "source": [
    "molecules = {\n",
    "    \"Ethanol\": \"CCO\",\n",
    "    \"Explicit Ethanol\": \"CC[OH]\",\n",
    "    \"Acetone\": \"CC(=O)C\",\n",
    "    \"Acetic acid\": \"CC(=O)O\",\n",
    "    \"Ethyl acetate\": \"CCOC(=O)C\",\n",
    "    \"Phenol\": \"c1ccc(cc1)O\",\n",
    "    \"Aniline\": \"c1ccccc1N\",\n",
    "    \"Dimethyl ether\": \"COC\",\n",
    "    \"Toluene\": \"Cc1ccccc1\",\n",
    "    \"Nitrobenzene\": \"c1ccc(cc1)[N+](=O)[O-]\",\n",
    "    \"2-nitropropane\": \"CC(C)[N+](=O)[O-]\",\n",
    "    \"Methanol\": \"CO\",\n",
    "    \"Acetamide\": \"CC(=O)N\",   \n",
    "}"
   ]
  },
  {
   "cell_type": "code",
   "execution_count": 2,
   "id": "db9ec5fd-e1b8-431f-a8f4-4b5036d12e2b",
   "metadata": {},
   "outputs": [
    {
     "data": {
      "application/vnd.jupyter.widget-view+json": {
       "model_id": "2559fb2c45054540858dd947da3565a9",
       "version_major": 2,
       "version_minor": 0
      },
      "text/plain": [
       "interactive(children=(Text(value='[CX4][OX2H]', continuous_update=False, description='SMARTS:', placeholder='T…"
      ]
     },
     "metadata": {},
     "output_type": "display_data"
    },
    {
     "data": {
      "text/plain": [
       "<function __main__.smarts_lab(smarts_pattern)>"
      ]
     },
     "execution_count": 2,
     "metadata": {},
     "output_type": "execute_result"
    }
   ],
   "source": [
    "from rdkit import Chem\n",
    "from rdkit.Chem import Draw\n",
    "from IPython.display import display, Markdown\n",
    "import ipywidgets as widgets\n",
    "\n",
    "\n",
    "\n",
    "def smarts_lab(smarts_pattern):\n",
    "    patt = Chem.MolFromSmarts(smarts_pattern)\n",
    "    if patt is None:\n",
    "        display(Markdown(f\"❌ Invalid SMARTS pattern: `{smarts_pattern}`\"))\n",
    "        return\n",
    "    images = []\n",
    "    legends = []\n",
    "    for name, smi in molecules.items():\n",
    "        mol = Chem.MolFromSmiles(smi)\n",
    "        matches = mol.GetSubstructMatches(patt)\n",
    "        highlight = [a for m in matches for a in m]\n",
    "        img = Draw.MolToImage(mol, size=(200,200), highlightAtoms=highlight)\n",
    "        images.append(img)\n",
    "        legends.append(name)\n",
    "    display(Markdown(f\"### Pattern: `{smarts_pattern}`\"))\n",
    "    display(Draw.MolsToGridImage(\n",
    "        [Chem.MolFromSmiles(s) for s in molecules.values()],\n",
    "        legends=legends,\n",
    "        highlightAtomLists=[\n",
    "            [a for m in Chem.MolFromSmiles(s).GetSubstructMatches(patt) for a in m]\n",
    "            for s in molecules.values()\n",
    "        ],\n",
    "        subImgSize=(200,200),\n",
    "        molsPerRow=4\n",
    "    ))\n",
    "\n",
    "widgets.interact(\n",
    "    smarts_lab,\n",
    "    smarts_pattern=widgets.Text(\n",
    "        value='[CX4][OX2H]',\n",
    "        description='SMARTS:',\n",
    "        placeholder='Type a SMARTS pattern…',\n",
    "        continuous_update=False\n",
    "    )\n",
    ")"
   ]
  },
  {
   "cell_type": "markdown",
   "id": "2b6bd3b9-2e4a-474e-9f76-85d0b621aa94",
   "metadata": {},
   "source": [
    "## Comparing groups\n",
    "\n",
    "Paste the following groups into the SMARTS Explorer and see what they match. \n",
    "\n",
    "| Topic               | Try this SMARTS         | Expected Outcome                               |\n",
    "| :------------------ | :-----------------------| :--------------------------------------------- |\n",
    "| Alcohol vs Carbonyl | `[CX4][OX2H]`           | Highlights ethanol & phenol but not acetone    |\n",
    "| Carbonyl group      | `[CX3]=O`               | Highlights acetone, acetic acid, ethyl acetate |\n",
    "| Ketone group        | `[#6][CX3](=O)[#6]`     | Highlights acetone only                        |\n",
    "| Carboxylic acid     | `[CX3](=O)[OX2H1]`      | Only acetic acid                               |\n",
    "| Ester linkage       | `[CX3](=O)[OX2][CX4]`   | Only ethyl acetate                             |\n",
    "| Amine only          | `[NX3;!$(NC=O);!$(N=O)]`| Aniline only                                   |\n",
    "| Amide only          | `[NX3][CX3](=O)`        | Only acetamide                                 |\n",
    "| Hydrocarbon chain C | `[CX4;!R]`              | Aliphatic chains only                          |\n",
    "| Aromatic ring       | `c1ccccc1`              | All benzene derivatives                        |\n",
    "\n"
   ]
  },
  {
   "cell_type": "markdown",
   "id": "3ac2c639-6495-4223-8810-63e72140f21e",
   "metadata": {},
   "source": [
    "## Comparing ether patterns\n",
    "Paste the following ehter patterns into the SMARTS Explorer to see how there are different ways of generating SMARTS patterns. \n",
    "|  SMARTS Pattern        | type                   |comments                    |\n",
    "| :--------------------- | :----------------------------- | :--------------------------- |\n",
    "| [O;D2]            | minimalist   | Ether oxygen with 2 carbons |\n",
    "| [#6X4]-[OX2]-[#6X4]           | Bond based    | each carbon has 4 bonds |\n",
    "| [[OD2]([CX4])[CX4]| Branch based | Oxygen has a C branch   |"
   ]
  },
  {
   "cell_type": "markdown",
   "id": "5a75a0a2-2e91-467a-b81d-ce3b69704c3f",
   "metadata": {},
   "source": [
    "## Activity\n",
    "Provide SMARTS patterns that do the following.  You can test them in the SMARTS Explorer above. \n",
    "\n",
    "\n",
    "1. Show nitro group of nitrobenzene and 2-nitropropane\n",
    "2. Show the nitro group of nitrobenzene but not 2-nitropropane\n",
    "3. Show the nitro group of 2-nitropropane but not nitrobenzene\n",
    "4. Show just the nitrogen of the nitro group in nitrobenzene and 2-nitropropane (use recursive SMARTS)\n",
    "5. Show the alcohol group of all alcohols\n",
    "6. Show the alcohol group of ethanol but not phenol\n",
    "7. Show the alcohol group of phenol but not ethanol\n",
    "8. Show the ether group of dimethyl ether but not ethyl acetate\n",
    "9. Show all C=O bonds \n",
    "10. Show amines and amides but not nitro or nitroso compounds\n"
   ]
  },
  {
   "cell_type": "markdown",
   "id": "4b477a15-ef3d-40d2-9362-65f10dc39265",
   "metadata": {},
   "source": [
    "# 6.  Assignment\n",
    "\n",
    "You should use an AI to assist you in this assignment. The following code cell takes a dictionary of amino acids and their SMILES strings and uses the RDKit library to create a polypeptide from 5 randomly selected amino acids.  Your job is to create a new Jupyter notebook called **Amino Acid Functional Group Explorer** that identifies which functional groups are present in your amino acid, and displays an image for each functional group with the name of the group as the label and the group(s) highlighted on the polypeptide. \n",
    "\n",
    "Two assist you I have also created a dictionary of common functional groups and their SMARTS patterns. You can use this to identify the functional groups in your polypeptide. \n"
   ]
  },
  {
   "cell_type": "code",
   "execution_count": 18,
   "id": "136d5146-e41d-474b-b91b-d56d87c64ce6",
   "metadata": {},
   "outputs": [
    {
     "name": "stdout",
     "output_type": "stream",
     "text": [
      "Selected amino acids: ['Glu', 'Ser', 'Leu', 'Gly', 'Ile']\n"
     ]
    },
    {
     "name": "stderr",
     "output_type": "stream",
     "text": [
      "[14:03:30] mapped atoms in the reactants were not mapped in the products.\n",
      "  unmapped numbers are: 2 \n"
     ]
    },
    {
     "data": {
      "image/jpeg": "[encoded data removed]",
      "image/png": "[encoded data removed]",
      "text/plain": [
       "<PIL.PngImagePlugin.PngImageFile image mode=RGB size=400x300>"
      ]
     },
     "execution_count": 18,
     "metadata": {},
     "output_type": "execute_result"
    }
   ],
   "source": [
    "#This program will build and display a polypeptide from 5 randomly selected amino acids from a python dictionary\n",
    "\n",
    "import random\n",
    "from rdkit import Chem\n",
    "from rdkit.Chem import AllChem, Draw\n",
    "\n",
    "# Step 1: Define amino acids (simplified SMILES, unprotected)\n",
    "amino_acids = {\n",
    "    \"Gly\": \"NCC(=O)O\",\n",
    "    \"Ala\": \"NCC(C)C(=O)O\",\n",
    "    \"Val\": \"NCC(C(C)C)C(=O)O\",\n",
    "    \"Leu\": \"NCC(CC(C)C)C(=O)O\",\n",
    "    \"Ile\": \"NCC(C(C)C)C(=O)O\",\n",
    "    \"Ser\": \"NCC(CO)C(=O)O\",\n",
    "    \"Thr\": \"NCC(C(O)C)C(=O)O\",\n",
    "    \"Asp\": \"NCC(C(=O)O)C(=O)O\",\n",
    "    \"Glu\": \"NCC(CC(=O)O)C(=O)O\",\n",
    "    \"Lys\": \"NCC(CCCCN)C(=O)O\",\n",
    "    \"Arg\": \"NCC(CCCNC(N)=N)C(=O)O\",\n",
    "    \"Phe\": \"NCC(Cc1ccccc1)C(=O)O\",\n",
    "    \"Tyr\": \"NCC(Cc1ccc(O)cc1)C(=O)O\",\n",
    "    \"Trp\": \"NCC(Cc1c[nH]c2ccccc12)C(=O)O\",\n",
    "    \"His\": \"NCC(Cc1cncn1)C(=O)O\",\n",
    "    \"Asn\": \"NCC(C(=O)N)C(=O)O\",\n",
    "    \"Gln\": \"NCC(CC(=O)N)C(=O)O\",\n",
    "    \"Met\": \"NCC(CSC)C(=O)O\",\n",
    "    \"Cys\": \"NCC(CS)C(=O)O\",\n",
    "    \"Pro\": \"N1CCC[C@H](C(=O)O)N1\"\n",
    "}\n",
    "\n",
    "# Step 2: Randomly select 5 amino acids\n",
    "selected = random.sample(list(amino_acids.items()), 5)\n",
    "print(\"Selected amino acids:\", [aa for aa, smi in selected])\n",
    "\n",
    "# Step 3: Convert to RDKit molecules\n",
    "mols = [Chem.MolFromSmiles(smi) for aa, smi in selected]\n",
    "\n",
    "# Step 4: Use RDKit’s peptide builder (requires RDKit >=2022)\n",
    "# if not available, can use a manual connection function\n",
    "from rdkit.Chem import rdChemReactions\n",
    "\n",
    "# Define generic peptide coupling reaction: acid + amine → amide + H2O\n",
    "rxn = rdChemReactions.ReactionFromSmarts(\"[C:1](=O)[O:2].[N:3]>>[C:1](=O)[N:3]\")\n",
    "\n",
    "# Step 5: Iteratively build the chain\n",
    "peptide = mols[0]\n",
    "for next_mol in mols[1:]:\n",
    "    prod = rxn.RunReactants((peptide, next_mol))\n",
    "    peptide = prod[0][0]  # take first product\n",
    "    Chem.SanitizeMol(peptide)\n",
    "\n",
    "# Step 6: Display the final random pentapeptide\n",
    "Draw.MolToImage(peptide, size=(400, 300))\n",
    "\n"
   ]
  },
  {
   "cell_type": "code",
   "execution_count": null,
   "id": "463a0898-eeb5-4252-a185-e28646b46c81",
   "metadata": {},
   "outputs": [],
   "source": [
    "functional_groups = {\n",
    "    # Core functional groups\n",
    "    \"Amine (primary/secondary/tertiary)\": \"[NX3;!$(NC=O);!$([N]~[!#1;!#6])]\",\n",
    "    \"Carboxylic acid\": \"[CX3](=O)[OX2H1]\",\n",
    "    \"Amide\": \"[CX3](=O)[NX3]\",\n",
    "    \"Alcohol\": \"[OX2H][CX4]\",\n",
    "    \"Phenol\": \"c[OX2H]\",\n",
    "    \"Thiol\": \"[SX2H]\",\n",
    "    \"Thioether\": \"[SX2][CX4]\",\n",
    "    \"Ether\": \"[OD2]([#6])[#6]\",\n",
    "    \"Ketone\": \"[#6][CX3](=O)[#6]\",\n",
    "    \"Aldehyde\": \"[CX3H1](=O)[#6]\",\n",
    "    \"Carboxylate (deprotonated acid)\": \"[CX3](=O)[O-]\",\n",
    "    \n",
    "    # Nitrogen-rich groups\n",
    "    \"Guanidinium\": \"NC(=[NH2+])N\",\n",
    "    \"Amidinium\": \"NC(=N)N\",\n",
    "    \"Imidazole\": \"c1ncnc1\",\n",
    "    \"Indole\": \"c1ccc2c(c1)[nH]cc2\",\n",
    "    \"Amine (aromatic)\": \"c[NX3;!$(NC=O)]\",\n",
    "    \n",
    "    # Sulfur groups\n",
    "    \"Disulfide\": \"[SX2][SX2]\",\n",
    "    \"Thioester\": \"[CX3](=O)[SX2]\",\n",
    "    \n",
    "    # Acid derivatives\n",
    "    \"Ester\": \"[CX3](=O)[OX2][CX4]\",\n",
    "    \"Carbamate\": \"[NX3][CX3](=O)[OX2]\",\n",
    "    \n",
    "    # Aromatic ring\n",
    "    \"Aromatic ring\": \"a1aaaaa1\"\n",
    "}"
   ]
  }
 ],
 "metadata": {
  "kernelspec": {
   "display_name": "Python3.11(NBI)",
   "language": "python",
   "name": "nbi"
  },
  "language_info": {
   "codemirror_mode": {
    "name": "ipython",
    "version": 3
   },
   "file_extension": ".py",
   "mimetype": "text/x-python",
   "name": "python",
   "nbconvert_exporter": "python",
   "pygments_lexer": "ipython3",
   "version": "3.11.13"
  }
 },
 "nbformat": 4,
 "nbformat_minor": 5
}
