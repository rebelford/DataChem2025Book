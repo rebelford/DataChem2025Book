{
 "cells": [
  {
   "cell_type": "markdown",
   "id": "a6401df5-056f-4400-add5-5c72fde632f0",
   "metadata": {},
   "source": [
    "(modules/05-Searching-Chemical-Databases/05-01-Exploring-PubChem)=\n",
    "\n",
    "# 5.1 Exploring PubChem"
   ]
  },
  {
   "cell_type": "markdown",
   "id": "517235c7-10e6-4d87-8e5e-65a1948137aa",
   "metadata": {},
   "source": [
    "\n",
    "**UNDERCONSTRUCTION**\n",
    "This is a non-programmatic activity designed to further your familiarity with PubChem.  It is based on the Current Protocols article [Exploring Chemical Information in PubChem](https://currentprotocols.onlinelibrary.wiley.com/doi/10.1002/cpz1.217), the 2019 Cheminformatics OLCC activities [4.1 PubChem Web Interface for Text](https://chem.libretexts.org/Courses/Intercollegiate_Courses/Cheminformatics/04%3A_Searching_Databases_for_Chemical_Information/4.01%3A_PubChem_Web_Interfaces_for_Text)"
   ]
  },
  {
   "attachments": {},
   "cell_type": "markdown",
   "id": "30a8bf5e-df1d-42e0-bd50-49e27587ca6b",
   "metadata": {},
   "source": [
    "# PubChem Overview (2025)\n",
    "\n",
    "The [PubChem homepage](https://pubchem.ncbi.nlm.nih.gov) provides a unified search interface that allows users to explore an extensive set of interrelated chemical and biological databases. Originally centered around the three core databases—**[Compound](https://pubchem.ncbi.nlm.nih.gov/docs/compounds)**, **[Substance](https://pubchem.ncbi.nlm.nih.gov/docs/substances)**, and **[BioAssays](https://pubchem.ncbi.nlm.nih.gov/docs/bioassays)**—PubChem has since expanded to include additional data domains such as **[Genes](https://pubchem.ncbi.nlm.nih.gov/docs/genes)**, **[Proteins](https://pubchem.ncbi.nlm.nih.gov/docs/proteins)**, **[Pathways](https://pubchem.ncbi.nlm.nih.gov/docs/pathways)**, **[Taxonomies](https://pubchem.ncbi.nlm.nih.gov/docs/taxonomies)**, **[Cell Lines](https://pubchem.ncbi.nlm.nih.gov/docs/cell-lines)**, **[Patents](https://pubchem.ncbi.nlm.nih.gov/docs/patents)**, **[Literature](https://pubchem.ncbi.nlm.nih.gov/docs/literature)**, and more. These additional records enable users to explore the relationships between small molecules and their biological context.\n",
    "\n",
    "\n",
    "\n",
    "## PubChem as a Data Aggregator\n",
    "The public often has a misconception of PubChem as a data validator. PubChem is really a data aggregator and as of July 2025 there are over 1,063 sources, including government agencies, university labs, pharmaceutical companies, substance vendors, and other databases. An up-to-date list of PubChem’s data sources is available at the [PubChem Sources page](https://pubchem.ncbi.nlm.nih.gov/sources). When a source contributes data it is stored as a substance or bioassay data record and assigned an substance ID (SID) or assay ID (or AID).  PubChem than uses a canonicalization technique to associate the SID with a specific chemical structure and uses that structure to associate the substance record with a compound record. So the compound record is the aggregation of the substance records uploaded from multiple data sources for a specific compound, and so doing it maintains the data provenance by linking back to the original Substance record and depositors information. If an uploaded bioassay has an associated SID, it is then connected to the compound record of the compound that SID is associated with. See the PubChem document: [What is the difference between a substance and a compound in PubChem?](https://pubchem.ncbi.nlm.nih.gov/docs/compound-vs-substance)\n",
    "\n",
    "<div class=\"alert alert-block alert-success\"> \n",
    "\n",
    "\n",
    "<details>\n",
    "<summary>Does PubChem Validate the data uploaded by a depositor?</summary>\n",
    "<br><p>No, PubChem only validates the chemical structure and then uses that to connect the substance record with the compound record of that chemical.\n",
    "</p>\n",
    "</div>\n",
    "\n",
    "\n",
    "\n",
    "![image.png](images/318221c2-de26-4095-ae79-9c8ab6a614ca.png)  \n",
    "Relationship showing how data sources contribute substance and bioassay data that can be connected to a compound's data record. ([image source link](https://pubchem.ncbi.nlm.nih.gov/docs/compound-vs-substance).)\n",
    "\n",
    "\n",
    "\n",
    "To gain an understanding of pubchem you should go to the about link on the top of the [homepage](https://pubchem.ncbi.nlm.nih.gov/) The left column allows you t navigate through the documentation\n",
    "\n",
    "In short, the PubChem homepage serves as a **centralized hub** for accessing chemical, biological, and pharmacological data linked through a chemical lens."
   ]
  },
  {
   "attachments": {},
   "cell_type": "markdown",
   "id": "2f268c3f-d3a2-4f4d-8345-ccfed5eb6987",
   "metadata": {},
   "source": [
    "# PubChem's Landing Page\n",
    "This activity will be a quick exploration of the features of PubChem's landing page, [https://pubchem.ncbi.nlm.nih.gov/](https://pubchem.ncbi.nlm.nih.gov/).\n",
    "\n",
    "## About\n",
    "The left frame of the [About link](https://pubchem.ncbi.nlm.nih.gov/docs/about) provides access to the resources in the [Docs link](https://pubchem.ncbi.nlm.nih.gov/docs/) and we will systematically go over these shortly.\n",
    "\n",
    "### Entrez\n",
    "NIH Entrez (French for \"Enter\") is the search and retrieval system of the National Center for Biotechnology Information (NCBI), a division of the U.S. National Library of Medicine (NLM) of the National Institutes of Health (NIH). It is essentially an integrated search engine for accessing a wide range of interconnected databases hosted by NCBI, of which PubChem is one. Entrez is integrated throughout NCBI resources and can be accessed through the search bar on top of the NCBI landing page [https://www.ncbi.nlm.nih.gov/](https://www.ncbi.nlm.nih.gov/)\n",
    "\n",
    "\n",
    "![image.png](images/18ebe53b-3d37-4063-81ee-578dd11da81a.png)  \n",
    "Screenshot of [https://www.ncbi.nlm.nih.gov/](https://www.ncbi.nlm.nih.gov/) (08/2/2025).\n",
    "\n",
    "\n",
    "The [Entrez Help NCBI Help Manual](https://www.ncbi.nlm.nih.gov/books/NBK3837/#EntrezHelp.Access_to_the_Entrez_System) is a 20 minute read that goes over the Entrez Databases, how to access and search them.  A complete list of Entrez resources can be found at the [All Resources link](https://www.ncbi.nlm.nih.gov/guide/all/). PubChem's home page is a \"unified chemical search interface\" that covers all three of PubChem's primary databases (Substance, Compound and BioAssay) and supports searches using molecular formula, and line notations like SMILES and InChIs. There is an option for text searches within Entrez from the PubChem homepage and more information is available in the [Entrez Advanced Search](https://pubchem.ncbi.nlm.nih.gov/docs/advanced-search-entrez) option.\n",
    "\n",
    "\n"
   ]
  },
  {
   "cell_type": "markdown",
   "id": "5bfef186-a5c6-4025-a6e5-fe01bce40389",
   "metadata": {},
   "source": [
    "# NLM Video Tutorials on PubChem\n",
    "The following video tutorials are part of the NLM PubChem training course and are available here for you to review.\n",
    "## Searching with Structures iin PubChem\n",
    "This tutorial goes over using the PubChem Sketcher. A more comprehensive tutorial can e obtained in the [PubChem Sketcher Help Doc](https://pubchem.ncbi.nlm.nih.gov/docs/sketcher-help).  "
   ]
  },
  {
   "cell_type": "code",
   "execution_count": 1,
   "id": "6b4ac384-525a-4be3-8fd2-06d3f6f13f6f",
   "metadata": {},
   "outputs": [
    {
     "data": {
      "text/html": [
       "# this is a code cell that connects to a youtube, and you need to execute it the first time you start the kernel with shift-enter.\n",
       "<iframe width=\"560\" height=\"315\" src=\"https://www.youtube.com/embed/DWTvE0pXwBU?si=TOIfORcuJspPehQb\" title=\"YouTube video player\" frameborder=\"0\" allow=\"accelerometer; autoplay; clipboard-write; encrypted-media; gyroscope; picture-in-picture; web-share\" referrerpolicy=\"strict-origin-when-cross-origin\" allowfullscreen></iframe>\n"
      ],
      "text/plain": [
       "<IPython.core.display.HTML object>"
      ]
     },
     "metadata": {},
     "output_type": "display_data"
    }
   ],
   "source": [
    "%%html\n",
    "# this is a code cell that connects to a youtube, and you need to execute it the first time you start the kernel with shift-enter.\n",
    "<iframe width=\"560\" height=\"315\" src=\"https://www.youtube.com/embed/DWTvE0pXwBU?si=TOIfORcuJspPehQb\" title=\"YouTube video player\" frameborder=\"0\" allow=\"accelerometer; autoplay; clipboard-write; encrypted-media; gyroscope; picture-in-picture; web-share\" referrerpolicy=\"strict-origin-when-cross-origin\" allowfullscreen></iframe>"
   ]
  },
  {
   "cell_type": "markdown",
   "id": "68fa2db4-0e3e-468a-8537-4f2ce438c645",
   "metadata": {},
   "source": [
    "## Finding Chemical Information in PubChem"
   ]
  },
  {
   "cell_type": "code",
   "execution_count": 2,
   "id": "5a37e39f-c976-4306-aa92-165d52754cfb",
   "metadata": {},
   "outputs": [
    {
     "data": {
      "text/html": [
       "<iframe width=\"560\" height=\"315\" src=\"https://www.youtube.com/embed/jZw7w9jithI?si=K9YMsxLYILAtVyGQ\" title=\"YouTube video player\" frameborder=\"0\" allow=\"accelerometer; autoplay; clipboard-write; encrypted-media; gyroscope; picture-in-picture; web-share\" referrerpolicy=\"strict-origin-when-cross-origin\" allowfullscreen></iframe>\n"
      ],
      "text/plain": [
       "<IPython.core.display.HTML object>"
      ]
     },
     "metadata": {},
     "output_type": "display_data"
    }
   ],
   "source": [
    "%%html\n",
    "<iframe width=\"560\" height=\"315\" src=\"https://www.youtube.com/embed/jZw7w9jithI?si=K9YMsxLYILAtVyGQ\" title=\"YouTube video player\" frameborder=\"0\" allow=\"accelerometer; autoplay; clipboard-write; encrypted-media; gyroscope; picture-in-picture; web-share\" referrerpolicy=\"strict-origin-when-cross-origin\" allowfullscreen></iframe>"
   ]
  },
  {
   "cell_type": "markdown",
   "id": "c22e1557-f849-4b0e-8c95-56a96a9670a1",
   "metadata": {},
   "source": [
    "## Finding Links and Citations in PubChem"
   ]
  },
  {
   "cell_type": "code",
   "execution_count": 3,
   "id": "3485740f-81be-4954-b59d-0f62aa546542",
   "metadata": {},
   "outputs": [
    {
     "data": {
      "text/html": [
       "<iframe width=\"560\" height=\"315\" src=\"https://www.youtube.com/embed/jpb0XZeCd5Q?si=fmhtaZNgcF_OkNa8\" title=\"YouTube video player\" frameborder=\"0\" allow=\"accelerometer; autoplay; clipboard-write; encrypted-media; gyroscope; picture-in-picture; web-share\" referrerpolicy=\"strict-origin-when-cross-origin\" allowfullscreen></iframe>\n"
      ],
      "text/plain": [
       "<IPython.core.display.HTML object>"
      ]
     },
     "metadata": {},
     "output_type": "display_data"
    }
   ],
   "source": [
    "%%html\n",
    "<iframe width=\"560\" height=\"315\" src=\"https://www.youtube.com/embed/jpb0XZeCd5Q?si=fmhtaZNgcF_OkNa8\" title=\"YouTube video player\" frameborder=\"0\" allow=\"accelerometer; autoplay; clipboard-write; encrypted-media; gyroscope; picture-in-picture; web-share\" referrerpolicy=\"strict-origin-when-cross-origin\" allowfullscreen></iframe>"
   ]
  },
  {
   "cell_type": "markdown",
   "id": "955e8715-2773-4f33-bd72-543e8e7009ed",
   "metadata": {},
   "source": []
  },
  {
   "cell_type": "markdown",
   "id": "987c293e-8417-4158-9137-d818d4b46d29",
   "metadata": {},
   "source": []
  },
  {
   "cell_type": "markdown",
   "id": "7a38deb4-0f60-499e-95e3-a2280ad4a86b",
   "metadata": {},
   "source": []
  }
 ],
 "metadata": {
  "kernelspec": {
   "display_name": "dataChem(py3.10)",
   "language": "python",
   "name": "datachem"
  },
  "language_info": {
   "codemirror_mode": {
    "name": "ipython",
    "version": 3
   },
   "file_extension": ".py",
   "mimetype": "text/x-python",
   "name": "python",
   "nbconvert_exporter": "python",
   "pygments_lexer": "ipython3",
   "version": "3.10.12"
  }
 },
 "nbformat": 4,
 "nbformat_minor": 5
}
