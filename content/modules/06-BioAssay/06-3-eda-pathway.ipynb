{
 "cells": [
  {
   "cell_type": "markdown",
   "id": "7118d8f7-f8ae-4c98-af2f-830d3c6bd3e5",
   "metadata": {},
   "source": [
    "# Exploratory Data Analysis 2:<br><br>Chemical Modulation of Renin-Angiotensin-Aldosterone system (RAAS)"
   ]
  },
  {
   "cell_type": "markdown",
   "id": "5ecc143b-c060-4d78-8d1a-5d362733480f",
   "metadata": {},
   "source": [
    "A biological pathway is a series of interactions among molecules (e.g., chemicals, genes, and proteins) in a cell that leads to a certain product or a change in a cell.  \n",
    "In this notebook, we will learn how to access information for a given pathway, with the human Renin-Angiotensin-Aldosterone System (RAAS) as an example. In PubChem, there are multiple records for the RAAS pathway, derived from different data sources.  Among them, we will use the RAAS record from WikiPathways (WikiPathways ID: WP4756).  The summary page of this record can be accessed at the following URL:\n",
    "\n",
    "https://pubchem.ncbi.nlm.nih.gov/pathway/WikiPathways:WP4756\n",
    "\n",
    "Among various annotations available on this page, we will use the list of genes downloaded from the Genes section:\n",
    "\n",
    "https://pubchem.ncbi.nlm.nih.gov/pathway/WikiPathways:WP4756#section=Genes\n",
    "\n",
    "The downloaded data file is already stored in the current directory."
   ]
  },
  {
   "cell_type": "code",
   "execution_count": null,
   "id": "f7d3cea2-882a-4b73-8796-43f1770de964",
   "metadata": {},
   "outputs": [],
   "source": [
    "file_pathway_genes = \"pubchem_pathwayid_1295579_pcget_pathway_gene.csv\""
   ]
  },
  {
   "cell_type": "markdown",
   "id": "472a66ec-a1d2-4f40-80fb-8e3e9b90db6c",
   "metadata": {},
   "source": [
    "Let's import necessary libraries."
   ]
  },
  {
   "cell_type": "code",
   "execution_count": null,
   "id": "63c21795-89c4-4d84-b470-517edaa0203c",
   "metadata": {},
   "outputs": [],
   "source": [
    "import pandas as pd\n",
    "import numpy as np\n",
    "import matplotlib.pyplot as plt\n",
    "import seaborn as sns\n",
    "import requests\n",
    "import time\n",
    "import json\n",
    "from IPython.display import HTML"
   ]
  },
  {
   "cell_type": "markdown",
   "id": "9a5d67e7-17f3-4383-87ee-906564553b9e",
   "metadata": {},
   "source": [
    "## Loading the gene list into a data frame."
   ]
  },
  {
   "cell_type": "markdown",
   "id": "189f50cb-96c9-44d9-b30a-fb87bfd0e1b6",
   "metadata": {},
   "source": [
    "First, create a data frame containing the list of genes involved in the RAAS pathway."
   ]
  },
  {
   "cell_type": "code",
   "execution_count": null,
   "id": "bbe6aa32-76c6-42ff-9b52-612bcb38f5e1",
   "metadata": {},
   "outputs": [],
   "source": [
    "df = pd.read_csv(file_pathway_genes)\n",
    "df"
   ]
  },
  {
   "cell_type": "markdown",
   "id": "1e241f91-a41e-4fc6-8fca-ab7486226471",
   "metadata": {},
   "source": [
    "To quickly access information on the individual genes, we want to add the URLs to their summary pages."
   ]
  },
  {
   "cell_type": "code",
   "execution_count": null,
   "id": "ec07b2a2-842f-4005-8abc-4877e49aaf59",
   "metadata": {},
   "outputs": [],
   "source": [
    "df[\"url\"] = \"https://pubchem.ncbi.nlm.nih.gov/gene/\" + df['geneid'].astype(str)\n",
    "df"
   ]
  },
  {
   "cell_type": "markdown",
   "id": "c97b2a00-54fd-4637-aa5b-2dfb8366681e",
   "metadata": {},
   "source": [
    "In the output of the above code cell, the URLs are not clickable.  To make them clickable, display the data frame as an HTML page."
   ]
  },
  {
   "cell_type": "code",
   "execution_count": null,
   "id": "708df3fd-0993-47b3-8b2d-eb179e4d2d5e",
   "metadata": {},
   "outputs": [],
   "source": [
    "HTML(df.to_html(render_links=True))"
   ]
  },
  {
   "cell_type": "markdown",
   "id": "12315c21-485e-45fb-a55f-e5b06347d53e",
   "metadata": {},
   "source": [
    "Click the URL for each gene and read the \"Description\" in the box presented at the top of the summary page to learn about the gene.  "
   ]
  },
  {
   "cell_type": "markdown",
   "id": "7c4e5ab0-ed32-4418-9740-4f7c6088b6a1",
   "metadata": {},
   "source": [
    "## Getting chemicals tested against the genes"
   ]
  },
  {
   "cell_type": "markdown",
   "id": "9ca7d459-3376-4ebd-92b3-0748e8481e23",
   "metadata": {},
   "source": [
    "It is noteworthy that the above gene summary pages have the bioactivity data for chemicals tested against the genes.  Therefore, you can find chemical modulators of a given pathway, by looking into the bioactivity of the chemicals against the genes involved in that pathway.  In this section, we will get the bioactivity data for the genes involved in the RAAS pathway programmatically through [PUG-REST](https://pubchem.ncbi.nlm.nih.gov/docs/pug-rest)."
   ]
  },
  {
   "cell_type": "markdown",
   "id": "9486cf14-3002-4bf2-8e5f-ebe1d0f00337",
   "metadata": {},
   "source": [
    "### Getting chemicals tested against a single gene."
   ]
  },
  {
   "cell_type": "code",
   "execution_count": null,
   "id": "d1b8ac94-dbfa-4514-88d8-7825be8fa677",
   "metadata": {},
   "outputs": [],
   "source": [
    "url = \"https://pubchem.ncbi.nlm.nih.gov/rest/pug/gene/geneid/183/concise/CSV\""
   ]
  },
  {
   "cell_type": "code",
   "execution_count": null,
   "id": "7c196a54-6534-4ffb-b913-5bd2448de5bc",
   "metadata": {},
   "outputs": [],
   "source": [
    "datatype = { \"CID\":\"Int64\", \"RNAi\":\"Int64\" }\n",
    "df_gene_183 = pd.read_csv(url, dtype=datatype)\n",
    "df_gene_183.head()"
   ]
  },
  {
   "cell_type": "code",
   "execution_count": null,
   "id": "ee2c44c5-f4e2-47a5-b2c9-f6996fc6ce96",
   "metadata": {},
   "outputs": [],
   "source": [
    "df_gene_183.shape    # Checking the dimension of the data frame"
   ]
  },
  {
   "cell_type": "markdown",
   "id": "4afe8172-03e6-4da3-a4d4-494b2d02ffd0",
   "metadata": {},
   "source": [
    "The downloaded data set does not have the target gene information. If we download the bioactivity data for multiple genes and merge them into a single data frame, it may be inconveninent to find which gene a given row is for.  Therefore, we want to add the gene information to the data frame."
   ]
  },
  {
   "cell_type": "code",
   "execution_count": null,
   "id": "99fe650e-aa7e-4da2-af76-20d49ec96718",
   "metadata": {},
   "outputs": [],
   "source": [
    "df_gene_183.insert(loc=0, column='Gene_ID', value='183')\n",
    "df_gene_183.insert(loc=1, column='Gene_Symbol', value='AGT')\n",
    "df_gene_183.insert(loc=2, column='Gene_Name', value='angiotensinogen')"
   ]
  },
  {
   "cell_type": "code",
   "execution_count": null,
   "id": "fb07ad70-a3b2-403b-94f3-2a80ce8be5d3",
   "metadata": {},
   "outputs": [],
   "source": [
    "df_gene_183.head()"
   ]
  },
  {
   "cell_type": "markdown",
   "id": "e2acef61-cceb-46bb-ba78-f1438a5ffb06",
   "metadata": {},
   "source": [
    "### Getting bioactivity data for all genes"
   ]
  },
  {
   "cell_type": "markdown",
   "id": "ffc7fe89-d9a3-466f-99d7-ac29dc3acc3e",
   "metadata": {},
   "source": [
    "Now generate a single data frame containing the bioactivity data for all seven genes involved in the RAAS pathway.\n",
    "- First, create an empty list called `list_dfs`.\n",
    "- Use a `for` loop to get the bioactivity data for the seven genes.\n",
    "    - To get the gene IDs, loop over the rows of the `df` data frame, using `iterrows()`.\n",
    "    - For each gene, add new columns called `Gene_ID`, `Gene_Symbol`, and `Gene_Name`, containing relevant information.\n",
    "    - For each loop, add the generated data frame to the `list_df` list.\n",
    "    - At the end of each loop, add a `time.sleep(0.5)` command, not to overload the PubChem server.\n",
    "- After adding the bioactivity data for all genes to the `list_df` list, create a single data frame by using `pd.concat` from `list_dfs`"
   ]
  },
  {
   "cell_type": "code",
   "execution_count": null,
   "id": "db202acc-40f7-43e7-8340-07e455372914",
   "metadata": {},
   "outputs": [],
   "source": [
    "# Write your own code here\n",
    "\n",
    "list_dfs = []\n",
    "\n",
    "for index, row in df.iterrows() :\n",
    "\n",
    "    url = \"https://pubchem.ncbi.nlm.nih.gov/rest/pug/gene/geneid/\" + str(row['geneid']) + \"/concise/CSV\"\n",
    "    print(\"Getting data for GeneID \", row['geneid'], \"from \", url)\n",
    "    \n",
    "    df_tmp = pd.read_csv(url, dtype=datatype)\n",
    "\n",
    "    df_tmp.insert(0, column='Gene_ID', value=row['geneid'])\n",
    "    df_tmp.insert(1, column='Gene_Symbol', value=row['genesymbol'])\n",
    "    df_tmp.insert(2, column='Gene_Name', value=row['genename'])\n",
    "    \n",
    "    list_dfs.append( df_tmp )\n",
    "    time.sleep(0.5)\n",
    "\n",
    "df_bioactivity = pd.concat(list_dfs, axis=0)"
   ]
  },
  {
   "cell_type": "code",
   "execution_count": null,
   "id": "4abfd0ce-b2ee-40f5-9946-d2344620bcac",
   "metadata": {},
   "outputs": [],
   "source": [
    "df_bioactivity.head()"
   ]
  },
  {
   "cell_type": "code",
   "execution_count": null,
   "id": "c511f06a-ab17-4794-aa3f-937aa563d571",
   "metadata": {},
   "outputs": [],
   "source": [
    "df_bioactivity.shape"
   ]
  },
  {
   "cell_type": "markdown",
   "id": "df609ae8-da36-46b3-a0ee-0418adfa6d37",
   "metadata": {},
   "source": [
    "### Getting Descriptive Statistics of the data"
   ]
  },
  {
   "cell_type": "markdown",
   "id": "91bb7871-4106-420c-b1f5-6ae7315d6756",
   "metadata": {},
   "source": [
    "The BioAssay records in PubChem can be classified into two groups: small molecule assays and RNAi screenings: \n",
    "\n",
    "- small molecule assay: an assay where small molecules are tested against a target macromolecule (e.g., protein).\n",
    "- RNAi screening: a high-throughput experimental approach used to systematically identify genes that regulate a specific cellular process or phenotype by silencing them using RNA interference (RNAi).\n",
    "\n",
    "In this lesson, we are intrested in small molecule assays, so we want to remove RNAi screening data.  They are flagged in the RNAi column of the data frame."
   ]
  },
  {
   "cell_type": "code",
   "execution_count": null,
   "id": "1cfdb7d5-c425-481b-a57a-e29131f489bf",
   "metadata": {},
   "outputs": [],
   "source": [
    "df_bioactivity[ df_bioactivity['RNAi'] == 1 ]"
   ]
  },
  {
   "cell_type": "code",
   "execution_count": null,
   "id": "04574573-692e-4d5c-8fd6-e543f175a73f",
   "metadata": {},
   "outputs": [],
   "source": [
    "indices_rnai = df_bioactivity[df_bioactivity['RNAi'] == 1].index"
   ]
  },
  {
   "cell_type": "code",
   "execution_count": null,
   "id": "4c926b14-c3cd-4858-91ee-a36aab4515b7",
   "metadata": {},
   "outputs": [],
   "source": [
    "df_activity_small = df_bioactivity.drop(indices_rnai)"
   ]
  },
  {
   "cell_type": "code",
   "execution_count": null,
   "id": "19271e38-b42d-4394-8168-1df347167f0e",
   "metadata": {},
   "outputs": [],
   "source": [
    "df_activity_small.shape"
   ]
  },
  {
   "cell_type": "markdown",
   "id": "95cda676-e875-4982-b0c5-1da99b8737f4",
   "metadata": {},
   "source": [
    "Check the number of bioactivity data points for each gene."
   ]
  },
  {
   "cell_type": "code",
   "execution_count": null,
   "id": "c6aad06f-7ef3-4254-9127-15be291a8f8e",
   "metadata": {},
   "outputs": [],
   "source": [
    "df_activity_small.groupby(by='Gene_Symbol').size()"
   ]
  },
  {
   "cell_type": "markdown",
   "id": "08c4d008-e4ca-4b62-9fee-35555e23db46",
   "metadata": {},
   "source": [
    "Visualize the above count information, using the seaborn `countplot()`.  Add the data label for each bar."
   ]
  },
  {
   "cell_type": "code",
   "execution_count": null,
   "id": "097f225e-8829-4009-b43c-7687c98aa61b",
   "metadata": {},
   "outputs": [],
   "source": [
    "# Write your own code.\n",
    "ax = sns.countplot(data=df_activity_small, x='Gene_Symbol')\n",
    "\n",
    "for container in ax.containers:\n",
    "    ax.bar_label(container)\n"
   ]
  },
  {
   "cell_type": "markdown",
   "id": "7c0395eb-4613-475a-a382-6b0af5fe13d1",
   "metadata": {
    "scrolled": true
   },
   "source": [
    "In the above count plot, we see that CTSG has the most data points (more than 62 thousands).  Let's look into this graph further.  First, group the data points by `Gene_symbol` and `Activity Outcome` (using `.groupby()`) and displays the number of data points for each combination of `Gene_Symbol` and `Activity Outcome` (using `size()`)."
   ]
  },
  {
   "cell_type": "code",
   "execution_count": null,
   "id": "9e1aaa7d-4b51-4b86-b988-7a3bf07452e5",
   "metadata": {},
   "outputs": [],
   "source": [
    "# Write your own code\n",
    "df_activity_small.groupby(by=['Gene_Symbol', 'Activity Outcome']).size()"
   ]
  },
  {
   "cell_type": "markdown",
   "id": "565408db-9509-4de3-8b8f-60430ad013d4",
   "metadata": {},
   "source": [
    "Generate a count plot that shows the number of data points grouped by `Gene_Symbol` and `Activity_Outcome`.\n",
    "- Add the data labels to individual bars.\n",
    "- Make the bars horizontal (not vertical).\n",
    "- Use the logarithmic scale to make small bars easier-to-recognize."
   ]
  },
  {
   "cell_type": "code",
   "execution_count": null,
   "id": "6118c804-719b-4d2b-b7c5-3fc9cdab8ea0",
   "metadata": {},
   "outputs": [],
   "source": [
    "# Write your own code\n",
    "#ax = sns.countplot(data=df_activity_small, x='Gene_Symbol', hue='Activity Outcome')\n",
    "\n",
    "ax = sns.countplot(data=df_activity_small, y='Gene_Symbol', hue='Activity Outcome')\n",
    "\n",
    "for container in ax.containers:\n",
    "    ax.bar_label(container, fontsize=8)\n",
    "\n",
    "ax.set_xscale('log')"
   ]
  },
  {
   "cell_type": "markdown",
   "id": "9131b0da-9794-4f04-993a-a33754b48454",
   "metadata": {},
   "source": [
    "The majority of data points for CTSG are declared \"inactive\".  What we observe here implies that there may be a high-throughput screening (HTS) assay that tested a large number of chemicals against CTSG, because a HTS experiment usally results in a small number of active chemicals with a large number of inactive chemicals.  \n",
    "Find the assay with the most data points tested against CTSG, using `groupby()` and `size()`."
   ]
  },
  {
   "cell_type": "code",
   "execution_count": null,
   "id": "848188a7-baef-4499-9533-8e51040da6dd",
   "metadata": {},
   "outputs": [],
   "source": [
    "df_activity_small[ df_activity_small['Gene_Symbol'] == 'CTSG' ].groupby('AID').size()"
   ]
  },
  {
   "cell_type": "markdown",
   "id": "c3c20078-f271-42ac-98a1-a2a8f4e0f266",
   "metadata": {},
   "source": [
    "For the assay identified in the above code cell, show the number of data points for each activity outcome. Use `groupby()` and `size()`.  Alternatively, you can use `value_counts()`."
   ]
  },
  {
   "cell_type": "code",
   "execution_count": null,
   "id": "09a1b9a6-721e-4604-946d-ea53f95f9722",
   "metadata": {},
   "outputs": [],
   "source": [
    "#df_activity_small[ df_activity_small['AID'] == 581 ]['Activity Outcome'].value_counts()\n",
    "df_activity_small[ df_activity_small['AID'] == 581 ].groupby('Activity Outcome').size()"
   ]
  },
  {
   "cell_type": "markdown",
   "id": "77449ba4-43c4-4340-9dad-450b0599414b",
   "metadata": {},
   "source": [
    "#### Quantitative Activity"
   ]
  },
  {
   "cell_type": "markdown",
   "id": "87535caf-4916-41d4-a93a-5e435357388f",
   "metadata": {},
   "source": [
    "Now let's look into what kind of activity values are in the `df_activity_small` data frame."
   ]
  },
  {
   "cell_type": "code",
   "execution_count": null,
   "id": "243c5f92-0f43-40f4-8fc1-e55d3ce33eaa",
   "metadata": {},
   "outputs": [],
   "source": [
    "df_activity_small.groupby(by=['Activity Name'], dropna=True).size().sort_values(ascending=False)"
   ]
  },
  {
   "cell_type": "markdown",
   "id": "788d4a0e-c7e7-40de-a1c8-b4e028659aba",
   "metadata": {},
   "source": [
    "The most common activity types in the data set is `IC50`, followed by `Ki`.  We will focus on these two activity types in the remaining part of this notebook.\n",
    "It is also worth mentioning that, if you use `dropna=False` (rather than `dropna=True`), you will see that more than 60 thousand data points do not have activity names.  Most of these data points without activity names correspond to the 62+ thousand inactive chemicals from the previously identified HTS assay."
   ]
  },
  {
   "cell_type": "markdown",
   "id": "481a6743-79c3-4f8c-873d-1d501e2d42da",
   "metadata": {},
   "source": [
    "Let's convert the activity values into a negative log scale.  "
   ]
  },
  {
   "cell_type": "code",
   "execution_count": null,
   "id": "d14dfc8b-b901-4deb-a70c-24ae6e3f4a5e",
   "metadata": {},
   "outputs": [],
   "source": [
    "df_activity_small['p_Activity_Value'] = (-1) * np.log10( df_activity_small['Activity Value [uM]'] * 10**(-6) )"
   ]
  },
  {
   "cell_type": "markdown",
   "id": "b8a19395-0782-43b0-b8e7-cd8e4ac86c34",
   "metadata": {},
   "source": [
    "Note that some activity data in the data frame are already in a log scale (e.g., log(1/C), pIC50, pKb, pKi).  In this notebook, we will ignore them because we are looking into IC50 and Ki values.  If we were to look into all activity types (including those already in a log scale), we would need to a different (and more complex) code."
   ]
  },
  {
   "cell_type": "markdown",
   "id": "039749f0-e4da-4b82-ae22-7fc0e82d962c",
   "metadata": {},
   "source": [
    "#### IC50"
   ]
  },
  {
   "cell_type": "markdown",
   "id": "15be5638-b300-4331-a2b7-e18e1222e410",
   "metadata": {},
   "source": [
    "Now let's look into IC50 values."
   ]
  },
  {
   "cell_type": "code",
   "execution_count": null,
   "id": "63d2c980-7d50-4039-a52d-70b90c1e621b",
   "metadata": {},
   "outputs": [],
   "source": [
    "df_activity_ic50 = df_activity_small[(df_activity_small['Activity Name'] == \"IC50\") & \n",
    "                                     (df_activity_small['Activity Value [uM]'].notnull()) &\n",
    "                                     ((df_activity_small['Activity Qualifier'] == \"=\") | (df_activity_small['Activity Qualifier'].isnull() ))]"
   ]
  },
  {
   "cell_type": "markdown",
   "id": "2c45d818-bdda-4f73-acd7-4b285e71da15",
   "metadata": {},
   "source": [
    "The last part of the above code deals with the activity qualifiers (e.g., `=`, `<`, `>`, `>=`, `<=`).  These qualifiers are crucial for correctly interpreting bioactivity data. For example, a compound with an IC50 of 1 μM has a different binding affinity from a compound with an IC50 < 1 μM or IC50 > 1 μM. However, without the qualifiers, they would be all indistinguishable, potentially leading to misinterpretation.  These qualifiers are provided by the assay data depositors.  When a data point does not have a qualifier, it is assumed to have the `=` qualifier.  \n",
    "Because we want to generate a chart for the activity values, we use only those values with the `=` qualifiers (and those with the `=` qualifers omitted), ignoring those with other qualifiers.\n"
   ]
  },
  {
   "cell_type": "code",
   "execution_count": null,
   "id": "13d0453e-f611-4e32-96ab-76fc3a09e6fe",
   "metadata": {},
   "outputs": [],
   "source": [
    "df_activity_ic50.shape"
   ]
  },
  {
   "cell_type": "markdown",
   "id": "3bdf95f0-0fea-4fcd-97ec-fca1cec08e5a",
   "metadata": {},
   "source": [
    "Generate box plots that show the distribution of pIC50 values for each gene."
   ]
  },
  {
   "cell_type": "code",
   "execution_count": null,
   "id": "59d3d096-5803-49e1-898d-3f50820e7dc0",
   "metadata": {},
   "outputs": [],
   "source": [
    "sns.boxplot(data=df_activity_ic50, x='p_Activity_Value', hue='Gene_Symbol')"
   ]
  },
  {
   "cell_type": "code",
   "execution_count": null,
   "id": "aa8c4f39-7f5d-45ed-b637-e422d805b821",
   "metadata": {},
   "outputs": [],
   "source": [
    "#sns.catplot(data=df_activity_ic50, x='p_Activity_Value', y='Gene_Symbol', kind=\"box\")   # Alternative ways to create a chart similar to the agove one."
   ]
  },
  {
   "cell_type": "markdown",
   "id": "4a3d7b6e-e53f-4ff8-ad04-52758d9c1da0",
   "metadata": {},
   "source": [
    "Generate a multipanel figure containing the histogram of pIC50 values for each gene, using seaborn's `FacetGrid()`."
   ]
  },
  {
   "cell_type": "code",
   "execution_count": null,
   "id": "49fff525-994d-4078-a382-ad02ecd2a040",
   "metadata": {},
   "outputs": [],
   "source": [
    "g = sns.FacetGrid(df_activity_ic50, col=\"Gene_Symbol\", height=2.5, col_wrap=4)\n",
    "g.map(sns.histplot, \"p_Activity_Value\")"
   ]
  },
  {
   "cell_type": "markdown",
   "id": "f50b8ee7-255d-46d8-8eb3-35ecd694a273",
   "metadata": {},
   "source": [
    "#### Ki"
   ]
  },
  {
   "cell_type": "markdown",
   "id": "a154533c-e546-4c43-b0b9-bd3406bf006c",
   "metadata": {},
   "source": [
    "Now repeat the analysis, this time, for the Ki values.  First, create a new data frame called `df_activity_ki` from `df_activity_small`.  Make sure to use only the activity values with the `=` qualifiers and those with the `=` qualifers omitted, excluding those with other qualifiers."
   ]
  },
  {
   "cell_type": "code",
   "execution_count": null,
   "id": "7381eaa5-00d1-4de6-bf83-34dbe9294456",
   "metadata": {},
   "outputs": [],
   "source": [
    "# Write your own code\n",
    "df_activity_ki = df_activity_small[(df_activity_small['Activity Name'] == \"Ki\") & \n",
    "                                     (df_activity_small['Activity Value [uM]'].notnull()) &\n",
    "                                     ((df_activity_small['Activity Qualifier'] == \"=\") | (df_activity_small['Activity Qualifier'].isnull() ))]"
   ]
  },
  {
   "cell_type": "markdown",
   "id": "f60b249a-323f-44b3-836a-c7c29469f235",
   "metadata": {},
   "source": [
    "Check the dimension of the resulting data frame."
   ]
  },
  {
   "cell_type": "code",
   "execution_count": null,
   "id": "18404ca6-7064-4fd1-ab63-41d2bf494a14",
   "metadata": {},
   "outputs": [],
   "source": [
    "df_activity_ki.shape"
   ]
  },
  {
   "cell_type": "markdown",
   "id": "cbe7aaff-13ac-40d6-811e-a6d5d8fe4e88",
   "metadata": {},
   "source": [
    "Generate box plots that show the distribution of pKi values for each gene."
   ]
  },
  {
   "cell_type": "code",
   "execution_count": null,
   "id": "0a7da512-2076-4e0b-9043-cfb35b9ead86",
   "metadata": {},
   "outputs": [],
   "source": [
    "sns.boxplot(data=df_activity_ki, x='p_Activity_Value', hue=\"Gene_Symbol\")"
   ]
  },
  {
   "cell_type": "code",
   "execution_count": null,
   "id": "a68bb975-0ded-4e17-8e37-82ead6df706e",
   "metadata": {},
   "outputs": [],
   "source": [
    "#sns.histplot(data=df_activity_ki, x='p_Activity_Value', hue=\"Gene_Symbol\")"
   ]
  },
  {
   "cell_type": "markdown",
   "id": "ee3c3931-cdb6-4a84-92c2-9e83d42e20e2",
   "metadata": {},
   "source": [
    "Generate a multipanel figure containing the histogram of pKi values for each gene, using seaborn's `FacetGrid()`."
   ]
  },
  {
   "cell_type": "code",
   "execution_count": null,
   "id": "4db15327-abaf-4252-8bbe-63be835cd16c",
   "metadata": {},
   "outputs": [],
   "source": [
    "g = sns.FacetGrid(df_activity_ki, col=\"Gene_Symbol\", height=2.5, col_wrap=4)\n",
    "g.map(sns.histplot, \"p_Activity_Value\")"
   ]
  },
  {
   "cell_type": "markdown",
   "id": "c8638f2b-01c4-4ad9-9fde-2d7c3d76a818",
   "metadata": {},
   "source": [
    "## Identifying known drugs from the tested compounds"
   ]
  },
  {
   "cell_type": "markdown",
   "id": "404983c9-f23d-4591-b107-07f6673f56c6",
   "metadata": {
    "scrolled": true
   },
   "source": [
    "Now let's see if any of the tested chemicals in the data set are known drug compounds, and if yes, what they are used for. To do that, we need a list of known drugs, which will be used to compare with the chemicals in the data set. There are multiple ways to get a known drug list with their indications, but in this notebook, we are going to use the list of compounds annotated with the terms in the World Health Organization (WHO) Anatomical Therapeutic Chemical (ATC) classification (https://www.who.int/tools/atc-ddd-toolkit/atc-classification)."
   ]
  },
  {
   "cell_type": "markdown",
   "id": "4aec6211-cabb-471e-b857-9fd011ee902f",
   "metadata": {},
   "source": [
    "### Getting one page of the annotation data"
   ]
  },
  {
   "cell_type": "markdown",
   "id": "ccecb024-22f5-4fe0-aae0-4adbb7820a5c",
   "metadata": {},
   "source": [
    "First, let's get the WHO ATC annotation data from PubChem using [PUG-View](https://pubchem.ncbi.nlm.nih.gov/docs/pug-view).  Then, load the downloaded json into a dictionary called `dict_drugs`"
   ]
  },
  {
   "cell_type": "code",
   "execution_count": null,
   "id": "89e6bf09-0caa-438d-b0cd-28c3adf9d919",
   "metadata": {},
   "outputs": [],
   "source": [
    "url=\"https://pubchem.ncbi.nlm.nih.gov/rest/pug_view/annotations/heading/JSON/?source=WHO%20Anatomical%20Therapeutic%20Chemical%20(ATC)%20Classification&heading_type=Compound&heading=ATC%20Code&page=1\"\n",
    "res = requests.get(url)\n",
    "dict_drugs = json.loads(res.text)"
   ]
  },
  {
   "cell_type": "code",
   "execution_count": null,
   "id": "b213f04f-7e17-4ccb-ad1b-b0409eb63688",
   "metadata": {
    "scrolled": true
   },
   "outputs": [],
   "source": [
    "#dict_drugs    # Uncomment to see the content of the downloaded json"
   ]
  },
  {
   "cell_type": "markdown",
   "id": "6af196a9-229a-4b64-94d5-f6abee7eaad7",
   "metadata": {},
   "source": [
    "PUG-View supports downloading up to 1,000 annotations at a time.  To download a data set with more than 1,000 annotations, the result will be paginated and the PUG-View request will return data for only one specified page (page 1 by default).  \n",
    "Therefore, whenever you download annotations through PUG-View, you should check the total number of pages for the annotatnion data."
   ]
  },
  {
   "cell_type": "code",
   "execution_count": null,
   "id": "a9985d19-d52f-424f-84cf-a94bab469b7b",
   "metadata": {},
   "outputs": [],
   "source": [
    "dict_drugs['Annotations'].keys()"
   ]
  },
  {
   "cell_type": "code",
   "execution_count": null,
   "id": "e75dc844-2491-418e-b1bb-16f248a2dffd",
   "metadata": {},
   "outputs": [],
   "source": [
    "total_pages = dict_drugs['Annotations']['TotalPages']"
   ]
  },
  {
   "cell_type": "code",
   "execution_count": null,
   "id": "50455193-5809-4d2d-b9ac-c6046ce0be62",
   "metadata": {},
   "outputs": [],
   "source": [
    "print(\"Current page:\", dict_drugs['Annotations']['Page'])\n",
    "print(\"Total number of pages:\", dict_drugs['Annotations']['TotalPages'])"
   ]
  },
  {
   "cell_type": "markdown",
   "id": "c4746044-928e-4ddd-b32c-d0678939a642",
   "metadata": {},
   "source": [
    "In the above PUG-View request, we downloaded the first page of the annotation data (out of six pages). Therefore, we should make six PUG-View requests to get drug information."
   ]
  },
  {
   "cell_type": "markdown",
   "id": "78d6587e-be6f-47e7-be35-be87d187e475",
   "metadata": {},
   "source": [
    "### Extracting the ATC code from the annotation data"
   ]
  },
  {
   "cell_type": "markdown",
   "id": "395fcab2-33d7-43ca-ad7d-5d60b2fcb0ca",
   "metadata": {},
   "source": [
    "The downloaded data in json format was loaded into a (somewhat complicated) dictionary.  From this dictionary, we want to extract necessary information (e.g.,drug name, drug classification, and PubChem Compound ID (CID)) and organize it in a tabular form (e.g., data frame).  The following code cells show how this task can be done."
   ]
  },
  {
   "cell_type": "code",
   "execution_count": null,
   "id": "e9cc37f6-307c-43eb-8844-e6664f649bf0",
   "metadata": {},
   "outputs": [],
   "source": [
    "#dict_drugs   # Uncomment if you want to check the structure of the downloaded data."
   ]
  },
  {
   "cell_type": "code",
   "execution_count": null,
   "id": "b336faae-0a8e-4710-b5b2-5c81989212dc",
   "metadata": {},
   "outputs": [],
   "source": [
    "list_annotations = dict_drugs['Annotations']['Annotation']"
   ]
  },
  {
   "cell_type": "code",
   "execution_count": null,
   "id": "f11c61d2-766c-4fc7-8965-434f4dd5ed7b",
   "metadata": {},
   "outputs": [],
   "source": [
    "count = 0\n",
    "\n",
    "drug_atc_code = []\n",
    "\n",
    "for annotation in list_annotations :\n",
    "\n",
    "    anid = annotation.get(\"ANID\")            # Unique ID for the annotation\n",
    "    atc_code = annotation.get(\"SourceID\")    # ATC code\n",
    "    drug_name = annotation.get(\"Name\")\n",
    "    cids = []\n",
    "    value_strings = []\n",
    "    \n",
    "    # Get CIDs for the drug. (Note: a drug can be mapped to multiple CIDs)\n",
    "    linked_records = annotation.get('LinkedRecords')\n",
    "    if linked_records :\n",
    "        cids = linked_records.get('CID')    # cids : list of CIDs\n",
    "\n",
    "        if len(cids) > 1:\n",
    "            print(\"# Warning! more than one CIDs:\", anid, atc_code, drug_name, cids)\n",
    "\n",
    "    # Get annotation data. (Note: there may be multiple items in this part).\n",
    "    data_tree_level0 = annotation.get('Data')\n",
    "    if data_tree_level0 :\n",
    "        for node_level0 in data_tree_level0:\n",
    "            value_strings_with_markup = node_level0.get(\"Value\").get('StringWithMarkup')\n",
    "            for value_string_with_markup in value_strings_with_markup:\n",
    "                value_strings.append(value_string_with_markup.get('String'))\n",
    "                #print(, mySourceID, myName, cids, value_string)\n",
    "\n",
    "    # Some rows do not have CIDs. For the CID columns of those rows, add an empty string as a spaceholder.\n",
    "    if not cids:\n",
    "        cids.append(\"\")\n",
    "\n",
    "    for cid in cids:\n",
    "        for index, value_string in enumerate(value_strings):\n",
    "            drug_atc_code.append([anid, cid, drug_name, atc_code, index, value_string])\n",
    "        \n",
    "#    if count == 10 :\n",
    "#        break\n",
    "    \n",
    "    count = count + 1"
   ]
  },
  {
   "cell_type": "markdown",
   "id": "55fa47d1-f586-4cf1-88f1-11823087e803",
   "metadata": {},
   "source": [
    "The above code cell stores the drug information in a list of lists.  You can view this list of lists as a 2-D matrix, where rows correspond to individaul drugs and columns correspond to piece of information for each drug.  Let's load `df_drug_atc` into a data frame."
   ]
  },
  {
   "cell_type": "code",
   "execution_count": null,
   "id": "17e06dad-8988-4b91-ae63-980709a5dfc7",
   "metadata": {},
   "outputs": [],
   "source": [
    "column_names = ['ANID', 'CID', 'Drug_Name', 'ATC_Code', 'ATC_Level', 'ATC_Description']\n",
    "df_drug_atc_tmp = pd.DataFrame(drug_atc_code, columns=column_names)"
   ]
  },
  {
   "cell_type": "code",
   "execution_count": null,
   "id": "de016c0c-bd1b-437e-80f3-6314e1cb51d8",
   "metadata": {},
   "outputs": [],
   "source": [
    "df_drug_atc_tmp.head(10)"
   ]
  },
  {
   "cell_type": "markdown",
   "id": "d2ca4276-1e27-4343-8ddb-2a20e08f67c6",
   "metadata": {},
   "source": [
    "### Getting all pages of the annotation data."
   ]
  },
  {
   "cell_type": "markdown",
   "id": "f32fde1d-0f8a-4bca-aea2-eeb46a2afc51",
   "metadata": {},
   "source": [
    "The above code cells demonstrate how to download the first page of the WHO-ATC annotation data, extract the desired drug information, and organize it in a dataframe.  Now write a code that repeat this process to get all six pages of the WHO-ATC annotation data."
   ]
  },
  {
   "cell_type": "code",
   "execution_count": null,
   "id": "b63596ae-9d1d-4c53-a90b-6f7b13b1d03d",
   "metadata": {},
   "outputs": [],
   "source": [
    "# Write your own code here\n",
    "\n",
    "drug_atc_code = []\n",
    "\n",
    "for page in range(1, total_pages + 1 ):\n",
    "\n",
    "    print(\"Getting page \" + str(page) +\" of \" + str(total_pages))\n",
    "    url=\"https://pubchem.ncbi.nlm.nih.gov/rest/pug_view/annotations/heading/JSON/?source=WHO%20Anatomical%20Therapeutic%20Chemical%20(ATC)%20Classification&heading_type=Compound&heading=ATC%20Code&page=\" + str(page)\n",
    "    res = requests.get(url)\n",
    "    dict_drugs = json.loads(res.text)\n",
    "    time.sleep(0.5)\n",
    "    \n",
    "    count = 0\n",
    "\n",
    "    list_annotations = dict_drugs['Annotations']['Annotation']\n",
    "    \n",
    "    for annotation in list_annotations :\n",
    "\n",
    "        anid = annotation.get(\"ANID\")            # Unique ID for the annotation\n",
    "        atc_code = annotation.get(\"SourceID\")    # ATC code\n",
    "        drug_name = annotation.get(\"Name\")\n",
    "        cids = []\n",
    "        value_strings = []\n",
    "    \n",
    "        # Get CIDs for the drug. (Note: a drug can be mapped to multiple CIDs)\n",
    "        linked_records = annotation.get('LinkedRecords')\n",
    "        if linked_records :\n",
    "            cids = linked_records.get('CID')    # cids : list of CIDs\n",
    "\n",
    "            if len(cids) > 1:\n",
    "                print(\"# Warning! more than one CIDs:\", anid, atc_code, drug_name, cids)\n",
    "\n",
    "        # Get annotation data. (Note: there may be multiple items in this part).\n",
    "        data_tree_level0 = annotation.get('Data')\n",
    "        if data_tree_level0 :\n",
    "            for node_level0 in data_tree_level0:\n",
    "                value_strings_with_markup = node_level0.get(\"Value\").get('StringWithMarkup')\n",
    "                for value_string_with_markup in value_strings_with_markup:\n",
    "                    value_strings.append(value_string_with_markup.get('String'))\n",
    "                    #print(, mySourceID, myName, cids, value_string)\n",
    "\n",
    "        # Some rows do not have CIDs. For the CID columns of those rows, add an empty string as a spaceholder.\n",
    "        if not cids:\n",
    "            cids.append(\"\")\n",
    "\n",
    "        for cid in cids:\n",
    "            for index, value_string in enumerate(value_strings):\n",
    "                drug_atc_code.append([anid, cid, drug_name, atc_code, index, value_string])\n",
    "        \n",
    "#        if count == 10 :\n",
    "#            break\n",
    "    \n",
    "#        count = count + 1"
   ]
  },
  {
   "cell_type": "code",
   "execution_count": null,
   "id": "8df85ef7-8e99-4a32-994f-151e2cad044c",
   "metadata": {},
   "outputs": [],
   "source": [
    "column_names = ['ANID', 'CID', 'Drug_Name', 'ATC_Code', 'ATC_Level', 'ATC_Description']\n",
    "df_drug_atc_tmp = pd.DataFrame(drug_atc_code, columns=column_names)"
   ]
  },
  {
   "cell_type": "code",
   "execution_count": null,
   "id": "c2e0e173-c8a3-474b-b4d8-99dad8c29954",
   "metadata": {},
   "outputs": [],
   "source": [
    "df_drug_atc_tmp.head(10)"
   ]
  },
  {
   "cell_type": "code",
   "execution_count": null,
   "id": "b5a5128d-261d-439f-8f02-41c210722e82",
   "metadata": {},
   "outputs": [],
   "source": [
    "df_drug_atc_tmp.shape    # Check the shape of the data frame"
   ]
  },
  {
   "cell_type": "code",
   "execution_count": null,
   "id": "af6d2df7-2953-486f-ac55-26f57ca55be6",
   "metadata": {},
   "outputs": [],
   "source": [
    "df_drug_atc_tmp['Drug_Name'].nunique()    # Check the number of unique drugs"
   ]
  },
  {
   "cell_type": "code",
   "execution_count": null,
   "id": "ba276222-dc48-4444-9481-5ef73ce03116",
   "metadata": {},
   "outputs": [],
   "source": [
    "df_drug_atc_tmp['CID'].nunique()    # Check the number of unique CIDs."
   ]
  },
  {
   "cell_type": "markdown",
   "id": "067ff2d6-71cd-4c86-a1b3-830db05213d0",
   "metadata": {},
   "source": [
    "As explained in the [**WHO-ATC classification web page**](https://www.who.int/tools/atc-ddd-toolkit/atc-classification), the WHO-ATC classifiction has a hierarchical structure with five levels. For this work, let's use the middle-level nodes to classify the drugs."
   ]
  },
  {
   "cell_type": "code",
   "execution_count": null,
   "id": "4c01651c-c182-416e-90c9-03446e616742",
   "metadata": {},
   "outputs": [],
   "source": [
    "df_drug_atc_lv2 = df_drug_atc_tmp[df_drug_atc_tmp['ATC_Level'] == 2 ]"
   ]
  },
  {
   "cell_type": "markdown",
   "id": "8490113b-6693-47f1-82bc-d1f61a508dad",
   "metadata": {},
   "source": [
    "The resulting data frame (`df_drug_atc_lv2`) will be compared with the data frame containing the compounds tested against the genes involved in the RAAS pathway."
   ]
  },
  {
   "cell_type": "markdown",
   "id": "54ffe342-baec-48e6-9c8b-ad8a7027dc68",
   "metadata": {},
   "source": [
    "### Appending drug information to the bioactivity data frame."
   ]
  },
  {
   "cell_type": "markdown",
   "id": "7384783c-ed3c-4c89-b21c-3c1954490edb",
   "metadata": {},
   "source": [
    "Now create a new data frame by merging `df_activity_small` with `df_drug_atc_lv2`."
   ]
  },
  {
   "cell_type": "code",
   "execution_count": null,
   "id": "68f5ac38-d522-49db-9e09-0bb48a127905",
   "metadata": {},
   "outputs": [],
   "source": [
    "df_activity_small_lv2 = df_activity_small.merge(df_drug_atc_lv2, how='left', on='CID')"
   ]
  },
  {
   "cell_type": "markdown",
   "id": "75c2491c-d5c9-4121-95e8-15bd027799f6",
   "metadata": {},
   "source": [
    "Check the first few rows of the new data set."
   ]
  },
  {
   "cell_type": "code",
   "execution_count": null,
   "id": "25139a95-0e32-44af-b88d-18a499360ea8",
   "metadata": {
    "scrolled": true
   },
   "outputs": [],
   "source": [
    "df_activity_small_lv2.head()"
   ]
  },
  {
   "cell_type": "markdown",
   "id": "526d9247-aabf-43ea-86dc-2014f5964241",
   "metadata": {},
   "source": [
    "Let's check how many chemicals in the data set are drugs."
   ]
  },
  {
   "cell_type": "code",
   "execution_count": null,
   "id": "2a13683b-8f47-4879-b297-504c913bc0e7",
   "metadata": {},
   "outputs": [],
   "source": [
    "df_activity_small_lv2['ATC_Code'].notnull().sum()"
   ]
  },
  {
   "cell_type": "markdown",
   "id": "1de9f1ed-3ae3-4d0b-8b43-22037d2ebb7f",
   "metadata": {},
   "source": [
    "There are more than 700 **rows** annotated with WHO-ATC codes.  However, **the actual number of known drugs** in the data frame may be smaller because they can be appear multiple times in the `df_activity_small_lv2` data frame.  It is worth noting that a chemical can be tested multiple times in different samples and different assays.  So, we want to check the unique number of CIDs in the data frame to get the number of tested compounds that are known drugs."
   ]
  },
  {
   "cell_type": "code",
   "execution_count": null,
   "id": "5f41415e-a65e-4dea-93ac-318ff2ca6bda",
   "metadata": {},
   "outputs": [],
   "source": [
    "df_activity_small_lv2[ df_activity_small_lv2['ATC_Code'].notnull() ]['CID'].nunique()"
   ]
  },
  {
   "cell_type": "markdown",
   "id": "f79b1417-6645-407a-9c55-55e74be063a5",
   "metadata": {},
   "source": [
    "The output of the above cell indicates that more than 275 drugs were tested against any of the genes involved in the RAAS pathway.  However, we don't know how many of these known drugs actually show decent activity against the genes involved in the RAAS pathway.  While some drugs may target the genes involved in the RASS pathway, others may not. Therefore, we want to look into those with strong activity against the target genes involved in the RAAS pathway."
   ]
  },
  {
   "cell_type": "markdown",
   "id": "fb0ce4a7-ed1d-42c0-b8c2-2749b191471e",
   "metadata": {},
   "source": [
    "### Identifying known drugs from submicromolar activity"
   ]
  },
  {
   "cell_type": "markdown",
   "id": "c5a07cac-124c-4bb9-9402-c8ce88e96448",
   "metadata": {},
   "source": [
    "Now create a new data frame called `df_submicro_drug_lv2`, by selecting only the rows with submicromolar activities **AND** ATC_Code annotations from the `df_activity_small_lv2` data frame."
   ]
  },
  {
   "cell_type": "code",
   "execution_count": null,
   "id": "a05da7d1-60e6-43f4-82dc-d3e1c68c91c7",
   "metadata": {},
   "outputs": [],
   "source": [
    "df_submicro_drug_lv2 = df_activity_small_lv2[ (df_activity_small_lv2['Activity Value [uM]'] < 1) & (df_activity_small_lv2['ATC_Code'].notnull()) ] \n",
    "df_submicro_drug_lv2.shape"
   ]
  },
  {
   "cell_type": "markdown",
   "id": "b41032ed-086a-4e6f-a621-50c9be21df4e",
   "metadata": {},
   "source": [
    "Show the number of unique CIDs in `df_submicro_drug_lv2`"
   ]
  },
  {
   "cell_type": "code",
   "execution_count": null,
   "id": "5f2778f5-f3cb-4b32-9640-7f833b4205dc",
   "metadata": {},
   "outputs": [],
   "source": [
    "df_submicro_drug_lv2['CID'].nunique()"
   ]
  },
  {
   "cell_type": "markdown",
   "id": "f8c44737-ae15-4272-a7fe-1bb0938a3c5f",
   "metadata": {
    "scrolled": true
   },
   "source": [
    "Show the list of unique CIDs, along with their drug names, ATC code, ATC Description, and the number of data points."
   ]
  },
  {
   "cell_type": "code",
   "execution_count": null,
   "id": "bbc59533-e63b-441a-a5e3-b29db8172d48",
   "metadata": {},
   "outputs": [],
   "source": [
    "df_submicro_drug_lv2[['CID', 'Drug_Name', 'ATC_Code', 'ATC_Description']].value_counts()"
   ]
  },
  {
   "cell_type": "markdown",
   "id": "ae020b19-28fb-4494-b2a0-bfb50ecd6ec2",
   "metadata": {},
   "source": [
    "Get the unique ATC_Descriptions and the number of data points associated with them, using `value_counts()`"
   ]
  },
  {
   "cell_type": "code",
   "execution_count": null,
   "id": "9b4ccdf5-697d-4569-b18a-a4e7614f4ca9",
   "metadata": {},
   "outputs": [],
   "source": [
    "df_submicro_drug_lv2['ATC_Description'].value_counts()"
   ]
  },
  {
   "cell_type": "markdown",
   "id": "8e618aa3-376a-4b70-aaaf-815da303a2ef",
   "metadata": {},
   "source": [
    "Now let's look into a few drugs in the list."
   ]
  },
  {
   "cell_type": "code",
   "execution_count": null,
   "id": "0b34d351-2828-4963-b963-46e9b9fcbc14",
   "metadata": {},
   "outputs": [],
   "source": [
    "df_losartan = df_submicro_drug_lv2[ df_submicro_drug_lv2['Drug_Name'] == 'Losartan' ]"
   ]
  },
  {
   "cell_type": "code",
   "execution_count": null,
   "id": "0469c597-e986-41e3-ab36-899eaff803a3",
   "metadata": {},
   "outputs": [],
   "source": [
    "df_losartan.head()"
   ]
  },
  {
   "cell_type": "code",
   "execution_count": null,
   "id": "2181024d-8029-4f9b-80f8-2e6c6fb31f2e",
   "metadata": {},
   "outputs": [],
   "source": [
    "df_losartan['Gene_Symbol'].value_counts()"
   ]
  },
  {
   "cell_type": "code",
   "execution_count": null,
   "id": "3d51a62d-b1f3-4731-aa5e-d8038a722baf",
   "metadata": {},
   "outputs": [],
   "source": [
    "df_losartan['Activity Name'].value_counts()"
   ]
  },
  {
   "cell_type": "markdown",
   "id": "df9e8ba3-476d-46b0-a2bb-ef79865a8084",
   "metadata": {},
   "source": [
    "Generate boxplots that compare losartan's activity against ATGR1 and ATGR2 in terms of IC50 and Kd"
   ]
  },
  {
   "cell_type": "code",
   "execution_count": null,
   "id": "67915d08-4980-43b9-854f-47fc7173e3c5",
   "metadata": {},
   "outputs": [],
   "source": [
    "fig, axes = plt.subplots(1, 2, figsize=(8,4), sharey=True)\n",
    "\n",
    "sns.boxplot(data=df_losartan[df_losartan['Activity Name'] == 'IC50'], x='Gene_Symbol', y='p_Activity_Value', hue='Gene_Symbol', fill=False, ax=axes[0])\n",
    "sns.boxplot(data=df_losartan[df_losartan['Activity Name'] == 'Kd'], x='Gene_Symbol', y='p_Activity_Value', hue='Gene_Symbol', fill=False, ax=axes[1])\n",
    "\n",
    "axes[0].set_title='IC50'\n",
    "axes[1].set_title='Kd'"
   ]
  },
  {
   "cell_type": "markdown",
   "id": "551c802d-1f9d-4ec0-bba9-278475ed87c9",
   "metadata": {},
   "source": [
    "Now let's look into another drug Captopril.  Create a new dataframe, called `df_captopril`, containing the rows for drug 'Captopril'."
   ]
  },
  {
   "cell_type": "code",
   "execution_count": null,
   "id": "91e38fb7-4a81-4b56-9d47-d2c8d3aac1ba",
   "metadata": {},
   "outputs": [],
   "source": [
    "# Write your own code here\n",
    "df_captopril = df_submicro_drug_lv2[ df_submicro_drug_lv2['Drug_Name'] == 'Captopril' ]"
   ]
  },
  {
   "cell_type": "markdown",
   "id": "59f0e6b3-7193-4f4e-9a0d-e3e4b1dfd2df",
   "metadata": {},
   "source": [
    "Check the number of data points for the gene symbols targeted by captopril."
   ]
  },
  {
   "cell_type": "code",
   "execution_count": null,
   "id": "941ee444-6d76-4670-87d0-d2b443cb8b77",
   "metadata": {},
   "outputs": [],
   "source": [
    "# Write your own code here\n",
    "df_captopril['Gene_Symbol'].value_counts()"
   ]
  },
  {
   "cell_type": "markdown",
   "id": "8c12d1c3-efe5-439c-9f7a-83bb34679fce",
   "metadata": {},
   "source": [
    "Check the number of data points for the activity types available for captopril."
   ]
  },
  {
   "cell_type": "code",
   "execution_count": null,
   "id": "e4aad8c1-c5d1-4480-a8e8-065f5a2271a0",
   "metadata": {},
   "outputs": [],
   "source": [
    "# Write your own code here\n",
    "df_captopril['Activity Name'].value_counts()"
   ]
  },
  {
   "cell_type": "markdown",
   "id": "63d32d43-b0b6-45f0-b3dd-23255802f7cd",
   "metadata": {},
   "source": [
    "Generate boxplots that compare captopril's activity against ACE and REN in terms of IC50 and Ki."
   ]
  },
  {
   "cell_type": "code",
   "execution_count": null,
   "id": "b6644304-17ea-4887-b84a-031e2ebb2a74",
   "metadata": {},
   "outputs": [],
   "source": [
    "# Write your own code here\n",
    "fig, axes = plt.subplots(1, 2, figsize=(8,4), sharey=True)\n",
    "\n",
    "sns.boxplot(data=df_captopril[df_captopril['Activity Name'] == 'IC50'], x='Gene_Symbol', y='p_Activity_Value', hue='Gene_Symbol', fill=False, ax=axes[0])\n",
    "sns.boxplot(data=df_captopril[df_captopril['Activity Name'] == 'Ki'], x='Gene_Symbol', y='p_Activity_Value', hue='Gene_Symbol', fill=False, ax=axes[1])\n",
    "\n",
    "axes[0].set_title='IC50'\n",
    "axes[1].set_title='Ki'"
   ]
  },
  {
   "cell_type": "markdown",
   "id": "c55f7915-de46-4bce-802b-2aebdea1f924",
   "metadata": {},
   "source": [
    "## Discussion"
   ]
  },
  {
   "cell_type": "markdown",
   "id": "cd96cefa-b64b-40bb-bcd7-ba02a4b7094e",
   "metadata": {},
   "source": [
    "How many genes are involved in the RAAS pathway, based on the WikiPathways Record WP4756?"
   ]
  },
  {
   "cell_type": "code",
   "execution_count": null,
   "id": "77c94030-47cb-492d-a97f-5df3fcdc88d7",
   "metadata": {},
   "outputs": [],
   "source": [
    "# Your answer here -> 7 genes"
   ]
  },
  {
   "cell_type": "markdown",
   "id": "b7d124a3-a2d5-4047-a874-a45042c85c79",
   "metadata": {},
   "source": [
    "How many compounds with ATC codes showed submicromolar activities against any gene(s) involved in the RAAS?"
   ]
  },
  {
   "cell_type": "code",
   "execution_count": null,
   "id": "5731cd2e-7b9a-4342-99a6-6fe91a57ad39",
   "metadata": {},
   "outputs": [],
   "source": [
    "# Your answer here -> 23 compounds (CIDs)"
   ]
  },
  {
   "cell_type": "markdown",
   "id": "0dbaa12e-cd1b-4015-8746-6d4bb4ff7c6b",
   "metadata": {},
   "source": [
    "What genes does losartan show submicromolar activity against?"
   ]
  },
  {
   "cell_type": "code",
   "execution_count": null,
   "id": "6acdf0c2-c06c-4fac-a96c-fee84df75625",
   "metadata": {},
   "outputs": [],
   "source": [
    "# Your answer here -> AGTR1, AGTR2"
   ]
  },
  {
   "cell_type": "markdown",
   "id": "3c10381a-ed7f-49f6-bf08-eaf1826785bb",
   "metadata": {},
   "source": [
    "What genes does catopril show submicromolar activity against?"
   ]
  },
  {
   "cell_type": "code",
   "execution_count": null,
   "id": "61ac7a54-0923-461d-95fe-5551e3f8f46e",
   "metadata": {},
   "outputs": [],
   "source": [
    "# Your answer here -> ACE, REN"
   ]
  },
  {
   "cell_type": "markdown",
   "id": "26a9fa4f-36ff-45cf-a5f8-978097a0482e",
   "metadata": {},
   "source": [
    "Visit the summary pages of those compounds and read the descriptions in the box at the top.  \n",
    "- losartan (CID 3961) : https://pubchem.ncbi.nlm.nih.gov/compound/3961\n",
    "- captopril (CID 44093) : https://pubchem.ncbi.nlm.nih.gov/compound/44093  \n",
    "What disease are these drugs used to treat?"
   ]
  },
  {
   "cell_type": "code",
   "execution_count": null,
   "id": "79e3266e-58ef-45ea-894d-2a0758ce3164",
   "metadata": {},
   "outputs": [],
   "source": [
    "# Your answer here -> hypertension"
   ]
  },
  {
   "cell_type": "markdown",
   "id": "ddf8177d-5072-4c2e-80c3-734d512197dc",
   "metadata": {},
   "source": [
    "Read the following article and summarize the role and clinical importance of the RAAS pathway in 50-60 words.\n",
    "\n",
    "**Physiology, Renin Angiotensin System**  \n",
    "By John H. Fountain, Jasleen Kaur & Sarah L. Lappin  \n",
    "https://www.ncbi.nlm.nih.gov/books/NBK470410/  "
   ]
  },
  {
   "cell_type": "markdown",
   "id": "a8de1a0e-5733-40bf-a271-ae73681fb118",
   "metadata": {},
   "source": [
    "\\# Write your summary in this markdown cell:\n",
    "\n",
    "\n"
   ]
  }
 ],
 "metadata": {
  "kernelspec": {
   "display_name": "Python 3 (ipykernel)",
   "language": "python",
   "name": "python3"
  },
  "language_info": {
   "codemirror_mode": {
    "name": "ipython",
    "version": 3
   },
   "file_extension": ".py",
   "mimetype": "text/x-python",
   "name": "python",
   "nbconvert_exporter": "python",
   "pygments_lexer": "ipython3",
   "version": "3.13.3"
  }
 },
 "nbformat": 4,
 "nbformat_minor": 5
}
